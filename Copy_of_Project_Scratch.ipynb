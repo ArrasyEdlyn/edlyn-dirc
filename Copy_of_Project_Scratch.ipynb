{
  "cells": [
    {
      "cell_type": "markdown",
      "metadata": {
        "id": "view-in-github",
        "colab_type": "text"
      },
      "source": [
        "<a href=\"https://colab.research.google.com/github/ArrasyEdlyn/edlyn-dirc/blob/main/Copy_of_Project_Scratch.ipynb\" target=\"_parent\"><img src=\"https://colab.research.google.com/assets/colab-badge.svg\" alt=\"Open In Colab\"/></a>"
      ]
    },
    {
      "cell_type": "code",
      "execution_count": null,
      "id": "CqzqyE5jwz0n",
      "metadata": {
        "colab": {
          "base_uri": "https://localhost:8080/"
        },
        "id": "CqzqyE5jwz0n",
        "outputId": "8ad5657e-1362-4699-8b2d-2dd785d3283f"
      },
      "outputs": [
        {
          "output_type": "stream",
          "name": "stdout",
          "text": [
            "Requirement already satisfied: transformers in /usr/local/lib/python3.11/dist-packages (4.48.3)\n",
            "Requirement already satisfied: filelock in /usr/local/lib/python3.11/dist-packages (from transformers) (3.17.0)\n",
            "Requirement already satisfied: huggingface-hub<1.0,>=0.24.0 in /usr/local/lib/python3.11/dist-packages (from transformers) (0.28.1)\n",
            "Requirement already satisfied: numpy>=1.17 in /usr/local/lib/python3.11/dist-packages (from transformers) (1.26.4)\n",
            "Requirement already satisfied: packaging>=20.0 in /usr/local/lib/python3.11/dist-packages (from transformers) (24.2)\n",
            "Requirement already satisfied: pyyaml>=5.1 in /usr/local/lib/python3.11/dist-packages (from transformers) (6.0.2)\n",
            "Requirement already satisfied: regex!=2019.12.17 in /usr/local/lib/python3.11/dist-packages (from transformers) (2024.11.6)\n",
            "Requirement already satisfied: requests in /usr/local/lib/python3.11/dist-packages (from transformers) (2.32.3)\n",
            "Requirement already satisfied: tokenizers<0.22,>=0.21 in /usr/local/lib/python3.11/dist-packages (from transformers) (0.21.0)\n",
            "Requirement already satisfied: safetensors>=0.4.1 in /usr/local/lib/python3.11/dist-packages (from transformers) (0.5.2)\n",
            "Requirement already satisfied: tqdm>=4.27 in /usr/local/lib/python3.11/dist-packages (from transformers) (4.67.1)\n",
            "Requirement already satisfied: fsspec>=2023.5.0 in /usr/local/lib/python3.11/dist-packages (from huggingface-hub<1.0,>=0.24.0->transformers) (2024.10.0)\n",
            "Requirement already satisfied: typing-extensions>=3.7.4.3 in /usr/local/lib/python3.11/dist-packages (from huggingface-hub<1.0,>=0.24.0->transformers) (4.12.2)\n",
            "Requirement already satisfied: charset-normalizer<4,>=2 in /usr/local/lib/python3.11/dist-packages (from requests->transformers) (3.4.1)\n",
            "Requirement already satisfied: idna<4,>=2.5 in /usr/local/lib/python3.11/dist-packages (from requests->transformers) (3.10)\n",
            "Requirement already satisfied: urllib3<3,>=1.21.1 in /usr/local/lib/python3.11/dist-packages (from requests->transformers) (2.3.0)\n",
            "Requirement already satisfied: certifi>=2017.4.17 in /usr/local/lib/python3.11/dist-packages (from requests->transformers) (2025.1.31)\n"
          ]
        }
      ],
      "source": [
        "!pip install transformers"
      ]
    },
    {
      "cell_type": "code",
      "source": [
        "!pip install faiss-cpu sentence-transformers"
      ],
      "metadata": {
        "colab": {
          "base_uri": "https://localhost:8080/"
        },
        "id": "Y6vWhcRMVAGd",
        "outputId": "612f8548-d5c3-467b-8b6c-e735131dcf0a"
      },
      "id": "Y6vWhcRMVAGd",
      "execution_count": null,
      "outputs": [
        {
          "output_type": "stream",
          "name": "stdout",
          "text": [
            "Requirement already satisfied: faiss-cpu in /usr/local/lib/python3.11/dist-packages (1.10.0)\n",
            "Requirement already satisfied: sentence-transformers in /usr/local/lib/python3.11/dist-packages (3.4.1)\n",
            "Requirement already satisfied: numpy<3.0,>=1.25.0 in /usr/local/lib/python3.11/dist-packages (from faiss-cpu) (1.26.4)\n",
            "Requirement already satisfied: packaging in /usr/local/lib/python3.11/dist-packages (from faiss-cpu) (24.2)\n",
            "Requirement already satisfied: transformers<5.0.0,>=4.41.0 in /usr/local/lib/python3.11/dist-packages (from sentence-transformers) (4.48.3)\n",
            "Requirement already satisfied: tqdm in /usr/local/lib/python3.11/dist-packages (from sentence-transformers) (4.67.1)\n",
            "Requirement already satisfied: torch>=1.11.0 in /usr/local/lib/python3.11/dist-packages (from sentence-transformers) (2.5.1+cu124)\n",
            "Requirement already satisfied: scikit-learn in /usr/local/lib/python3.11/dist-packages (from sentence-transformers) (1.6.1)\n",
            "Requirement already satisfied: scipy in /usr/local/lib/python3.11/dist-packages (from sentence-transformers) (1.13.1)\n",
            "Requirement already satisfied: huggingface-hub>=0.20.0 in /usr/local/lib/python3.11/dist-packages (from sentence-transformers) (0.28.1)\n",
            "Requirement already satisfied: Pillow in /usr/local/lib/python3.11/dist-packages (from sentence-transformers) (11.1.0)\n",
            "Requirement already satisfied: filelock in /usr/local/lib/python3.11/dist-packages (from huggingface-hub>=0.20.0->sentence-transformers) (3.17.0)\n",
            "Requirement already satisfied: fsspec>=2023.5.0 in /usr/local/lib/python3.11/dist-packages (from huggingface-hub>=0.20.0->sentence-transformers) (2024.10.0)\n",
            "Requirement already satisfied: pyyaml>=5.1 in /usr/local/lib/python3.11/dist-packages (from huggingface-hub>=0.20.0->sentence-transformers) (6.0.2)\n",
            "Requirement already satisfied: requests in /usr/local/lib/python3.11/dist-packages (from huggingface-hub>=0.20.0->sentence-transformers) (2.32.3)\n",
            "Requirement already satisfied: typing-extensions>=3.7.4.3 in /usr/local/lib/python3.11/dist-packages (from huggingface-hub>=0.20.0->sentence-transformers) (4.12.2)\n",
            "Requirement already satisfied: networkx in /usr/local/lib/python3.11/dist-packages (from torch>=1.11.0->sentence-transformers) (3.4.2)\n",
            "Requirement already satisfied: jinja2 in /usr/local/lib/python3.11/dist-packages (from torch>=1.11.0->sentence-transformers) (3.1.5)\n",
            "Requirement already satisfied: nvidia-cuda-nvrtc-cu12==12.4.127 in /usr/local/lib/python3.11/dist-packages (from torch>=1.11.0->sentence-transformers) (12.4.127)\n",
            "Requirement already satisfied: nvidia-cuda-runtime-cu12==12.4.127 in /usr/local/lib/python3.11/dist-packages (from torch>=1.11.0->sentence-transformers) (12.4.127)\n",
            "Requirement already satisfied: nvidia-cuda-cupti-cu12==12.4.127 in /usr/local/lib/python3.11/dist-packages (from torch>=1.11.0->sentence-transformers) (12.4.127)\n",
            "Requirement already satisfied: nvidia-cudnn-cu12==9.1.0.70 in /usr/local/lib/python3.11/dist-packages (from torch>=1.11.0->sentence-transformers) (9.1.0.70)\n",
            "Requirement already satisfied: nvidia-cublas-cu12==12.4.5.8 in /usr/local/lib/python3.11/dist-packages (from torch>=1.11.0->sentence-transformers) (12.4.5.8)\n",
            "Requirement already satisfied: nvidia-cufft-cu12==11.2.1.3 in /usr/local/lib/python3.11/dist-packages (from torch>=1.11.0->sentence-transformers) (11.2.1.3)\n",
            "Requirement already satisfied: nvidia-curand-cu12==10.3.5.147 in /usr/local/lib/python3.11/dist-packages (from torch>=1.11.0->sentence-transformers) (10.3.5.147)\n",
            "Requirement already satisfied: nvidia-cusolver-cu12==11.6.1.9 in /usr/local/lib/python3.11/dist-packages (from torch>=1.11.0->sentence-transformers) (11.6.1.9)\n",
            "Requirement already satisfied: nvidia-cusparse-cu12==12.3.1.170 in /usr/local/lib/python3.11/dist-packages (from torch>=1.11.0->sentence-transformers) (12.3.1.170)\n",
            "Requirement already satisfied: nvidia-nccl-cu12==2.21.5 in /usr/local/lib/python3.11/dist-packages (from torch>=1.11.0->sentence-transformers) (2.21.5)\n",
            "Requirement already satisfied: nvidia-nvtx-cu12==12.4.127 in /usr/local/lib/python3.11/dist-packages (from torch>=1.11.0->sentence-transformers) (12.4.127)\n",
            "Requirement already satisfied: nvidia-nvjitlink-cu12==12.4.127 in /usr/local/lib/python3.11/dist-packages (from torch>=1.11.0->sentence-transformers) (12.4.127)\n",
            "Requirement already satisfied: triton==3.1.0 in /usr/local/lib/python3.11/dist-packages (from torch>=1.11.0->sentence-transformers) (3.1.0)\n",
            "Requirement already satisfied: sympy==1.13.1 in /usr/local/lib/python3.11/dist-packages (from torch>=1.11.0->sentence-transformers) (1.13.1)\n",
            "Requirement already satisfied: mpmath<1.4,>=1.1.0 in /usr/local/lib/python3.11/dist-packages (from sympy==1.13.1->torch>=1.11.0->sentence-transformers) (1.3.0)\n",
            "Requirement already satisfied: regex!=2019.12.17 in /usr/local/lib/python3.11/dist-packages (from transformers<5.0.0,>=4.41.0->sentence-transformers) (2024.11.6)\n",
            "Requirement already satisfied: tokenizers<0.22,>=0.21 in /usr/local/lib/python3.11/dist-packages (from transformers<5.0.0,>=4.41.0->sentence-transformers) (0.21.0)\n",
            "Requirement already satisfied: safetensors>=0.4.1 in /usr/local/lib/python3.11/dist-packages (from transformers<5.0.0,>=4.41.0->sentence-transformers) (0.5.2)\n",
            "Requirement already satisfied: joblib>=1.2.0 in /usr/local/lib/python3.11/dist-packages (from scikit-learn->sentence-transformers) (1.4.2)\n",
            "Requirement already satisfied: threadpoolctl>=3.1.0 in /usr/local/lib/python3.11/dist-packages (from scikit-learn->sentence-transformers) (3.5.0)\n",
            "Requirement already satisfied: MarkupSafe>=2.0 in /usr/local/lib/python3.11/dist-packages (from jinja2->torch>=1.11.0->sentence-transformers) (3.0.2)\n",
            "Requirement already satisfied: charset-normalizer<4,>=2 in /usr/local/lib/python3.11/dist-packages (from requests->huggingface-hub>=0.20.0->sentence-transformers) (3.4.1)\n",
            "Requirement already satisfied: idna<4,>=2.5 in /usr/local/lib/python3.11/dist-packages (from requests->huggingface-hub>=0.20.0->sentence-transformers) (3.10)\n",
            "Requirement already satisfied: urllib3<3,>=1.21.1 in /usr/local/lib/python3.11/dist-packages (from requests->huggingface-hub>=0.20.0->sentence-transformers) (2.3.0)\n",
            "Requirement already satisfied: certifi>=2017.4.17 in /usr/local/lib/python3.11/dist-packages (from requests->huggingface-hub>=0.20.0->sentence-transformers) (2025.1.31)\n"
          ]
        }
      ]
    },
    {
      "cell_type": "code",
      "execution_count": null,
      "id": "b3b6c8d8",
      "metadata": {
        "colab": {
          "base_uri": "https://localhost:8080/"
        },
        "id": "b3b6c8d8",
        "outputId": "7e7ae09c-65bd-421d-e637-0027346d05ee"
      },
      "outputs": [
        {
          "output_type": "stream",
          "name": "stderr",
          "text": [
            "Device set to use cuda:0\n",
            "Device set to use cuda:0\n",
            "/usr/local/lib/python3.11/dist-packages/transformers/pipelines/question_answering.py:391: FutureWarning: Passing a list of SQuAD examples to the pipeline is deprecated and will be removed in v5. Inputs should be passed using the `question` and `context` keyword arguments instead.\n",
            "  warnings.warn(\n"
          ]
        }
      ],
      "source": [
        "\"\"\"https://huggingface.co/deepset/roberta-base-squad2\"\"\"\n",
        "from transformers import AutoModelForQuestionAnswering, AutoTokenizer, pipeline\n",
        "\n",
        "model_name = \"deepset/roberta-base-squad2\"\n",
        "\n",
        "# a) Get predictions\n",
        "nlp = pipeline('question-answering', model=model_name, tokenizer=model_name)\n",
        "\"\"\"https://huggingface.co/deepset/roberta-base-squad2\"\"\"\n",
        "from transformers import AutoModelForQuestionAnswering, AutoTokenizer, pipeline\n",
        "\n",
        "model_name = \"deepset/roberta-base-squad2\"\n",
        "\n",
        "# a) Get predictions\n",
        "nlp = pipeline('question-answering', model=model_name, tokenizer=model_name)\n",
        "QA_input = {\n",
        "    'question': 'At what temperature does water boil at sea level?',\n",
        "    'context': 'Water boils at 100 degrees Celsius at sea level. However, at higher altitudes, due to lower atmospheric pressure, water boils at a lower temperature. This principle is important in cooking and scientific experiments conducted at different elevations.'\n",
        "}\n",
        "res = nlp(QA_input)\n",
        "\n",
        "# b) Load model & tokenizer\n",
        "model = AutoModelForQuestionAnswering.from_pretrained(model_name)\n",
        "tokenizer = AutoTokenizer.from_pretrained(model_name)\n",
        "res = nlp(QA_input)\n",
        "\n",
        "# b) Load model & tokenizer\n",
        "model = AutoModelForQuestionAnswering.from_pretrained(model_name)\n",
        "tokenizer = AutoTokenizer.from_pretrained(model_name)"
      ]
    },
    {
      "cell_type": "code",
      "execution_count": null,
      "id": "adbe11d4",
      "metadata": {
        "colab": {
          "base_uri": "https://localhost:8080/"
        },
        "id": "adbe11d4",
        "outputId": "78168432-4515-40e6-9448-c5f43e93c39b"
      },
      "outputs": [
        {
          "output_type": "execute_result",
          "data": {
            "text/plain": [
              "{'score': 0.9166737794876099,\n",
              " 'start': 15,\n",
              " 'end': 34,\n",
              " 'answer': '100 degrees Celsius'}"
            ]
          },
          "metadata": {},
          "execution_count": 86
        }
      ],
      "source": [
        "res # score == F1 Score: it's computed on the individual words in the prediction vs the true words provided in context"
      ]
    },
    {
      "cell_type": "code",
      "execution_count": null,
      "id": "0e568f49",
      "metadata": {
        "colab": {
          "base_uri": "https://localhost:8080/"
        },
        "id": "0e568f49",
        "outputId": "40a9d7a5-0b62-4756-ae66-aa40d7ae53a4"
      },
      "outputs": [
        {
          "output_type": "execute_result",
          "data": {
            "text/plain": [
              "RobertaForQuestionAnswering(\n",
              "  (roberta): RobertaModel(\n",
              "    (embeddings): RobertaEmbeddings(\n",
              "      (word_embeddings): Embedding(50265, 768, padding_idx=1)\n",
              "      (position_embeddings): Embedding(514, 768, padding_idx=1)\n",
              "      (token_type_embeddings): Embedding(1, 768)\n",
              "      (LayerNorm): LayerNorm((768,), eps=1e-05, elementwise_affine=True)\n",
              "      (dropout): Dropout(p=0.1, inplace=False)\n",
              "    )\n",
              "    (encoder): RobertaEncoder(\n",
              "      (layer): ModuleList(\n",
              "        (0-11): 12 x RobertaLayer(\n",
              "          (attention): RobertaAttention(\n",
              "            (self): RobertaSdpaSelfAttention(\n",
              "              (query): Linear(in_features=768, out_features=768, bias=True)\n",
              "              (key): Linear(in_features=768, out_features=768, bias=True)\n",
              "              (value): Linear(in_features=768, out_features=768, bias=True)\n",
              "              (dropout): Dropout(p=0.1, inplace=False)\n",
              "            )\n",
              "            (output): RobertaSelfOutput(\n",
              "              (dense): Linear(in_features=768, out_features=768, bias=True)\n",
              "              (LayerNorm): LayerNorm((768,), eps=1e-05, elementwise_affine=True)\n",
              "              (dropout): Dropout(p=0.1, inplace=False)\n",
              "            )\n",
              "          )\n",
              "          (intermediate): RobertaIntermediate(\n",
              "            (dense): Linear(in_features=768, out_features=3072, bias=True)\n",
              "            (intermediate_act_fn): GELUActivation()\n",
              "          )\n",
              "          (output): RobertaOutput(\n",
              "            (dense): Linear(in_features=3072, out_features=768, bias=True)\n",
              "            (LayerNorm): LayerNorm((768,), eps=1e-05, elementwise_affine=True)\n",
              "            (dropout): Dropout(p=0.1, inplace=False)\n",
              "          )\n",
              "        )\n",
              "      )\n",
              "    )\n",
              "  )\n",
              "  (qa_outputs): Linear(in_features=768, out_features=2, bias=True)\n",
              ")"
            ]
          },
          "metadata": {},
          "execution_count": 87
        }
      ],
      "source": [
        "model"
      ]
    },
    {
      "cell_type": "code",
      "execution_count": null,
      "id": "1TwUcCrlxQF8",
      "metadata": {
        "colab": {
          "base_uri": "https://localhost:8080/"
        },
        "id": "1TwUcCrlxQF8",
        "outputId": "dd41d057-d47e-4ad7-a766-2ddd5dea60bf"
      },
      "outputs": [
        {
          "output_type": "stream",
          "name": "stdout",
          "text": [
            "Requirement already satisfied: datasets in /usr/local/lib/python3.11/dist-packages (3.3.1)\n",
            "Requirement already satisfied: filelock in /usr/local/lib/python3.11/dist-packages (from datasets) (3.17.0)\n",
            "Requirement already satisfied: numpy>=1.17 in /usr/local/lib/python3.11/dist-packages (from datasets) (1.26.4)\n",
            "Requirement already satisfied: pyarrow>=15.0.0 in /usr/local/lib/python3.11/dist-packages (from datasets) (17.0.0)\n",
            "Requirement already satisfied: dill<0.3.9,>=0.3.0 in /usr/local/lib/python3.11/dist-packages (from datasets) (0.3.8)\n",
            "Requirement already satisfied: pandas in /usr/local/lib/python3.11/dist-packages (from datasets) (2.2.2)\n",
            "Requirement already satisfied: requests>=2.32.2 in /usr/local/lib/python3.11/dist-packages (from datasets) (2.32.3)\n",
            "Requirement already satisfied: tqdm>=4.66.3 in /usr/local/lib/python3.11/dist-packages (from datasets) (4.67.1)\n",
            "Requirement already satisfied: xxhash in /usr/local/lib/python3.11/dist-packages (from datasets) (3.5.0)\n",
            "Requirement already satisfied: multiprocess<0.70.17 in /usr/local/lib/python3.11/dist-packages (from datasets) (0.70.16)\n",
            "Requirement already satisfied: fsspec<=2024.12.0,>=2023.1.0 in /usr/local/lib/python3.11/dist-packages (from fsspec[http]<=2024.12.0,>=2023.1.0->datasets) (2024.10.0)\n",
            "Requirement already satisfied: aiohttp in /usr/local/lib/python3.11/dist-packages (from datasets) (3.11.12)\n",
            "Requirement already satisfied: huggingface-hub>=0.24.0 in /usr/local/lib/python3.11/dist-packages (from datasets) (0.28.1)\n",
            "Requirement already satisfied: packaging in /usr/local/lib/python3.11/dist-packages (from datasets) (24.2)\n",
            "Requirement already satisfied: pyyaml>=5.1 in /usr/local/lib/python3.11/dist-packages (from datasets) (6.0.2)\n",
            "Requirement already satisfied: aiohappyeyeballs>=2.3.0 in /usr/local/lib/python3.11/dist-packages (from aiohttp->datasets) (2.4.6)\n",
            "Requirement already satisfied: aiosignal>=1.1.2 in /usr/local/lib/python3.11/dist-packages (from aiohttp->datasets) (1.3.2)\n",
            "Requirement already satisfied: attrs>=17.3.0 in /usr/local/lib/python3.11/dist-packages (from aiohttp->datasets) (25.1.0)\n",
            "Requirement already satisfied: frozenlist>=1.1.1 in /usr/local/lib/python3.11/dist-packages (from aiohttp->datasets) (1.5.0)\n",
            "Requirement already satisfied: multidict<7.0,>=4.5 in /usr/local/lib/python3.11/dist-packages (from aiohttp->datasets) (6.1.0)\n",
            "Requirement already satisfied: propcache>=0.2.0 in /usr/local/lib/python3.11/dist-packages (from aiohttp->datasets) (0.2.1)\n",
            "Requirement already satisfied: yarl<2.0,>=1.17.0 in /usr/local/lib/python3.11/dist-packages (from aiohttp->datasets) (1.18.3)\n",
            "Requirement already satisfied: typing-extensions>=3.7.4.3 in /usr/local/lib/python3.11/dist-packages (from huggingface-hub>=0.24.0->datasets) (4.12.2)\n",
            "Requirement already satisfied: charset-normalizer<4,>=2 in /usr/local/lib/python3.11/dist-packages (from requests>=2.32.2->datasets) (3.4.1)\n",
            "Requirement already satisfied: idna<4,>=2.5 in /usr/local/lib/python3.11/dist-packages (from requests>=2.32.2->datasets) (3.10)\n",
            "Requirement already satisfied: urllib3<3,>=1.21.1 in /usr/local/lib/python3.11/dist-packages (from requests>=2.32.2->datasets) (2.3.0)\n",
            "Requirement already satisfied: certifi>=2017.4.17 in /usr/local/lib/python3.11/dist-packages (from requests>=2.32.2->datasets) (2025.1.31)\n",
            "Requirement already satisfied: python-dateutil>=2.8.2 in /usr/local/lib/python3.11/dist-packages (from pandas->datasets) (2.8.2)\n",
            "Requirement already satisfied: pytz>=2020.1 in /usr/local/lib/python3.11/dist-packages (from pandas->datasets) (2025.1)\n",
            "Requirement already satisfied: tzdata>=2022.7 in /usr/local/lib/python3.11/dist-packages (from pandas->datasets) (2025.1)\n",
            "Requirement already satisfied: six>=1.5 in /usr/local/lib/python3.11/dist-packages (from python-dateutil>=2.8.2->pandas->datasets) (1.17.0)\n"
          ]
        }
      ],
      "source": [
        "!pip install datasets"
      ]
    },
    {
      "cell_type": "code",
      "execution_count": null,
      "id": "77dea1c0",
      "metadata": {
        "collapsed": true,
        "id": "77dea1c0"
      },
      "outputs": [],
      "source": [
        "from datasets import load_dataset, Dataset\n",
        "import pandas as pd\n",
        "from sentence_transformers import SentenceTransformer\n",
        "import faiss\n",
        "import numpy as np\n",
        "\n",
        "dataset = load_dataset(\"deepset/covid_qa_deepset\")\n",
        "\n",
        "df = pd.DataFrame(dataset[\"train\"])\n",
        "\n"
      ]
    },
    {
      "cell_type": "code",
      "execution_count": null,
      "id": "ji9DxTllhuzl",
      "metadata": {
        "colab": {
          "base_uri": "https://localhost:8080/"
        },
        "id": "ji9DxTllhuzl",
        "outputId": "67e0620e-db1d-4de5-92aa-4205b4cef320"
      },
      "outputs": [
        {
          "output_type": "stream",
          "name": "stdout",
          "text": [
            "                                            question  \\\n",
            "0  what is the main cause of hiv-1 infection in c...   \n",
            "1  what plays the crucial role in the mother to c...   \n",
            "2  how many children were infected by hiv-1 in 20...   \n",
            "3  what is the role of c-c motif chemokine ligand...   \n",
            "4        what is dc-genr and where is  it expressed?   \n",
            "\n",
            "                                             context  \\\n",
            "0  functional genetic variants in dc-signr are as...   \n",
            "1  functional genetic variants in dc-signr are as...   \n",
            "2  functional genetic variants in dc-signr are as...   \n",
            "3  functional genetic variants in dc-signr are as...   \n",
            "4  functional genetic variants in dc-signr are as...   \n",
            "\n",
            "                                              answer  \n",
            "0  mother-to-child transmission (mtct) is the mai...  \n",
            "1  dc-signr plays a crucial role in mtct of hiv-1...  \n",
            "2  more than 400,000 children were infected world...  \n",
            "3  high copy numbers of ccl3l1, a potent hiv-1 su...  \n",
            "4  dendritic cell-specific icam-grabbing non-inte...  \n"
          ]
        }
      ],
      "source": [
        "# Remove missing values\n",
        "df = df.dropna()\n",
        "\n",
        "# Extract the answer text from the \"answers\" dictionary\n",
        "df[\"answer\"] = df[\"answers\"].apply(lambda x: x[\"text\"][0] if len(x[\"text\"]) > 0 else \"\")\n",
        "\n",
        "# Convert text to lowercase (optional)\n",
        "df[\"question\"] = df[\"question\"].str.lower()\n",
        "df[\"context\"] = df[\"context\"].str.lower()\n",
        "df[\"answer\"] = df[\"answer\"].str.lower()\n",
        "\n",
        "print(df[[\"question\", \"context\", \"answer\"]].head())"
      ]
    },
    {
      "cell_type": "code",
      "source": [
        "# Load sentence transformer for embeddings\n",
        "embed_model = SentenceTransformer(\"sentence-transformers/all-MiniLM-L6-v2\")\n",
        "\n",
        "# Convert context texts into embeddings\n",
        "context_texts = df[\"context\"].tolist()\n",
        "context_embeddings = embed_model.encode(context_texts, convert_to_numpy=True)"
      ],
      "metadata": {
        "id": "76mXtDjIXb3E"
      },
      "id": "76mXtDjIXb3E",
      "execution_count": null,
      "outputs": []
    },
    {
      "cell_type": "code",
      "source": [
        "print(context_embeddings)"
      ],
      "metadata": {
        "colab": {
          "base_uri": "https://localhost:8080/"
        },
        "id": "w3Pa_ymEYy12",
        "outputId": "0a07a8c0-c2b3-4d7e-bfc9-9b027ccb7766"
      },
      "id": "w3Pa_ymEYy12",
      "execution_count": null,
      "outputs": [
        {
          "output_type": "stream",
          "name": "stdout",
          "text": [
            "[[-0.07105713 -0.04538158  0.03040162 ... -0.02389823  0.03788241\n",
            "  -0.03420835]\n",
            " [-0.07105713 -0.04538158  0.03040162 ... -0.02389823  0.03788241\n",
            "  -0.03420835]\n",
            " [-0.07105713 -0.04538158  0.03040162 ... -0.02389823  0.03788241\n",
            "  -0.03420835]\n",
            " ...\n",
            " [ 0.02422593  0.06549928  0.02575275 ... -0.12366255 -0.03642359\n",
            "   0.00460077]\n",
            " [ 0.02422593  0.06549928  0.02575275 ... -0.12366255 -0.03642359\n",
            "   0.00460077]\n",
            " [ 0.02422593  0.06549928  0.02575275 ... -0.12366255 -0.03642359\n",
            "   0.00460077]]\n"
          ]
        }
      ]
    },
    {
      "cell_type": "code",
      "execution_count": null,
      "id": "_S_lzA6EkM8d",
      "metadata": {
        "id": "_S_lzA6EkM8d",
        "colab": {
          "base_uri": "https://localhost:8080/",
          "height": 625
        },
        "outputId": "f4cea44c-e661-47df-fa70-c76b6e6349ee"
      },
      "outputs": [
        {
          "output_type": "stream",
          "name": "stdout",
          "text": [
            "Training Set Size: 1817\n",
            "Validation Set Size: 202\n"
          ]
        },
        {
          "output_type": "execute_result",
          "data": {
            "text/plain": [
              "      document_id                                            context  \\\n",
              "1556         2504  respiratory viral infections in exacerbation o...   \n",
              "526          2440  optimization method for forecasting confirmed ...   \n",
              "393          1604  emergent severe acute respiratory distress syn...   \n",
              "1789         2642  first cases of coronavirus disease 2019 (covid...   \n",
              "433          1632  metabolic engineering of escherichia coli into...   \n",
              "\n",
              "                                               question  is_impossible    id  \\\n",
              "1556                    what have the authors reviewed?          False  3858   \n",
              "526                 how does the proposed fpassa start?          False  4432   \n",
              "393   what is the mean time from onset of symptoms t...          False  3245   \n",
              "1789  what was the clinical evolution of the hospita...          False  3828   \n",
              "433   what characteristics does glycosylation have o...          False  5300   \n",
              "\n",
              "                                                answers  \\\n",
              "1556  {'text': ['the prevalence of different respira...   \n",
              "526   {'text': ['by receiving the historical COVID-1...   \n",
              "393        {'text': ['5 days'], 'answer_start': [8958]}   \n",
              "1789  {'text': ['All hospitalised cases had a benign...   \n",
              "433   {'text': ['solubility, stability and bio-activ...   \n",
              "\n",
              "                                                 answer  \n",
              "1556  the prevalence of different respiratory viral ...  \n",
              "526       by receiving the historical covid-19 dataset.  \n",
              "393                                              5 days  \n",
              "1789  all hospitalised cases had a benign clinical e...  \n",
              "433              solubility, stability and bio-activity  "
            ],
            "text/html": [
              "\n",
              "  <div id=\"df-cc27186e-5bb9-46ca-ab0d-49e39b2aa66a\" class=\"colab-df-container\">\n",
              "    <div>\n",
              "<style scoped>\n",
              "    .dataframe tbody tr th:only-of-type {\n",
              "        vertical-align: middle;\n",
              "    }\n",
              "\n",
              "    .dataframe tbody tr th {\n",
              "        vertical-align: top;\n",
              "    }\n",
              "\n",
              "    .dataframe thead th {\n",
              "        text-align: right;\n",
              "    }\n",
              "</style>\n",
              "<table border=\"1\" class=\"dataframe\">\n",
              "  <thead>\n",
              "    <tr style=\"text-align: right;\">\n",
              "      <th></th>\n",
              "      <th>document_id</th>\n",
              "      <th>context</th>\n",
              "      <th>question</th>\n",
              "      <th>is_impossible</th>\n",
              "      <th>id</th>\n",
              "      <th>answers</th>\n",
              "      <th>answer</th>\n",
              "    </tr>\n",
              "  </thead>\n",
              "  <tbody>\n",
              "    <tr>\n",
              "      <th>1556</th>\n",
              "      <td>2504</td>\n",
              "      <td>respiratory viral infections in exacerbation o...</td>\n",
              "      <td>what have the authors reviewed?</td>\n",
              "      <td>False</td>\n",
              "      <td>3858</td>\n",
              "      <td>{'text': ['the prevalence of different respira...</td>\n",
              "      <td>the prevalence of different respiratory viral ...</td>\n",
              "    </tr>\n",
              "    <tr>\n",
              "      <th>526</th>\n",
              "      <td>2440</td>\n",
              "      <td>optimization method for forecasting confirmed ...</td>\n",
              "      <td>how does the proposed fpassa start?</td>\n",
              "      <td>False</td>\n",
              "      <td>4432</td>\n",
              "      <td>{'text': ['by receiving the historical COVID-1...</td>\n",
              "      <td>by receiving the historical covid-19 dataset.</td>\n",
              "    </tr>\n",
              "    <tr>\n",
              "      <th>393</th>\n",
              "      <td>1604</td>\n",
              "      <td>emergent severe acute respiratory distress syn...</td>\n",
              "      <td>what is the mean time from onset of symptoms t...</td>\n",
              "      <td>False</td>\n",
              "      <td>3245</td>\n",
              "      <td>{'text': ['5 days'], 'answer_start': [8958]}</td>\n",
              "      <td>5 days</td>\n",
              "    </tr>\n",
              "    <tr>\n",
              "      <th>1789</th>\n",
              "      <td>2642</td>\n",
              "      <td>first cases of coronavirus disease 2019 (covid...</td>\n",
              "      <td>what was the clinical evolution of the hospita...</td>\n",
              "      <td>False</td>\n",
              "      <td>3828</td>\n",
              "      <td>{'text': ['All hospitalised cases had a benign...</td>\n",
              "      <td>all hospitalised cases had a benign clinical e...</td>\n",
              "    </tr>\n",
              "    <tr>\n",
              "      <th>433</th>\n",
              "      <td>1632</td>\n",
              "      <td>metabolic engineering of escherichia coli into...</td>\n",
              "      <td>what characteristics does glycosylation have o...</td>\n",
              "      <td>False</td>\n",
              "      <td>5300</td>\n",
              "      <td>{'text': ['solubility, stability and bio-activ...</td>\n",
              "      <td>solubility, stability and bio-activity</td>\n",
              "    </tr>\n",
              "  </tbody>\n",
              "</table>\n",
              "</div>\n",
              "    <div class=\"colab-df-buttons\">\n",
              "\n",
              "  <div class=\"colab-df-container\">\n",
              "    <button class=\"colab-df-convert\" onclick=\"convertToInteractive('df-cc27186e-5bb9-46ca-ab0d-49e39b2aa66a')\"\n",
              "            title=\"Convert this dataframe to an interactive table.\"\n",
              "            style=\"display:none;\">\n",
              "\n",
              "  <svg xmlns=\"http://www.w3.org/2000/svg\" height=\"24px\" viewBox=\"0 -960 960 960\">\n",
              "    <path d=\"M120-120v-720h720v720H120Zm60-500h600v-160H180v160Zm220 220h160v-160H400v160Zm0 220h160v-160H400v160ZM180-400h160v-160H180v160Zm440 0h160v-160H620v160ZM180-180h160v-160H180v160Zm440 0h160v-160H620v160Z\"/>\n",
              "  </svg>\n",
              "    </button>\n",
              "\n",
              "  <style>\n",
              "    .colab-df-container {\n",
              "      display:flex;\n",
              "      gap: 12px;\n",
              "    }\n",
              "\n",
              "    .colab-df-convert {\n",
              "      background-color: #E8F0FE;\n",
              "      border: none;\n",
              "      border-radius: 50%;\n",
              "      cursor: pointer;\n",
              "      display: none;\n",
              "      fill: #1967D2;\n",
              "      height: 32px;\n",
              "      padding: 0 0 0 0;\n",
              "      width: 32px;\n",
              "    }\n",
              "\n",
              "    .colab-df-convert:hover {\n",
              "      background-color: #E2EBFA;\n",
              "      box-shadow: 0px 1px 2px rgba(60, 64, 67, 0.3), 0px 1px 3px 1px rgba(60, 64, 67, 0.15);\n",
              "      fill: #174EA6;\n",
              "    }\n",
              "\n",
              "    .colab-df-buttons div {\n",
              "      margin-bottom: 4px;\n",
              "    }\n",
              "\n",
              "    [theme=dark] .colab-df-convert {\n",
              "      background-color: #3B4455;\n",
              "      fill: #D2E3FC;\n",
              "    }\n",
              "\n",
              "    [theme=dark] .colab-df-convert:hover {\n",
              "      background-color: #434B5C;\n",
              "      box-shadow: 0px 1px 3px 1px rgba(0, 0, 0, 0.15);\n",
              "      filter: drop-shadow(0px 1px 2px rgba(0, 0, 0, 0.3));\n",
              "      fill: #FFFFFF;\n",
              "    }\n",
              "  </style>\n",
              "\n",
              "    <script>\n",
              "      const buttonEl =\n",
              "        document.querySelector('#df-cc27186e-5bb9-46ca-ab0d-49e39b2aa66a button.colab-df-convert');\n",
              "      buttonEl.style.display =\n",
              "        google.colab.kernel.accessAllowed ? 'block' : 'none';\n",
              "\n",
              "      async function convertToInteractive(key) {\n",
              "        const element = document.querySelector('#df-cc27186e-5bb9-46ca-ab0d-49e39b2aa66a');\n",
              "        const dataTable =\n",
              "          await google.colab.kernel.invokeFunction('convertToInteractive',\n",
              "                                                    [key], {});\n",
              "        if (!dataTable) return;\n",
              "\n",
              "        const docLinkHtml = 'Like what you see? Visit the ' +\n",
              "          '<a target=\"_blank\" href=https://colab.research.google.com/notebooks/data_table.ipynb>data table notebook</a>'\n",
              "          + ' to learn more about interactive tables.';\n",
              "        element.innerHTML = '';\n",
              "        dataTable['output_type'] = 'display_data';\n",
              "        await google.colab.output.renderOutput(dataTable, element);\n",
              "        const docLink = document.createElement('div');\n",
              "        docLink.innerHTML = docLinkHtml;\n",
              "        element.appendChild(docLink);\n",
              "      }\n",
              "    </script>\n",
              "  </div>\n",
              "\n",
              "\n",
              "<div id=\"df-bdd368cc-bbc3-4fd0-9cbc-363d294d8fa0\">\n",
              "  <button class=\"colab-df-quickchart\" onclick=\"quickchart('df-bdd368cc-bbc3-4fd0-9cbc-363d294d8fa0')\"\n",
              "            title=\"Suggest charts\"\n",
              "            style=\"display:none;\">\n",
              "\n",
              "<svg xmlns=\"http://www.w3.org/2000/svg\" height=\"24px\"viewBox=\"0 0 24 24\"\n",
              "     width=\"24px\">\n",
              "    <g>\n",
              "        <path d=\"M19 3H5c-1.1 0-2 .9-2 2v14c0 1.1.9 2 2 2h14c1.1 0 2-.9 2-2V5c0-1.1-.9-2-2-2zM9 17H7v-7h2v7zm4 0h-2V7h2v10zm4 0h-2v-4h2v4z\"/>\n",
              "    </g>\n",
              "</svg>\n",
              "  </button>\n",
              "\n",
              "<style>\n",
              "  .colab-df-quickchart {\n",
              "      --bg-color: #E8F0FE;\n",
              "      --fill-color: #1967D2;\n",
              "      --hover-bg-color: #E2EBFA;\n",
              "      --hover-fill-color: #174EA6;\n",
              "      --disabled-fill-color: #AAA;\n",
              "      --disabled-bg-color: #DDD;\n",
              "  }\n",
              "\n",
              "  [theme=dark] .colab-df-quickchart {\n",
              "      --bg-color: #3B4455;\n",
              "      --fill-color: #D2E3FC;\n",
              "      --hover-bg-color: #434B5C;\n",
              "      --hover-fill-color: #FFFFFF;\n",
              "      --disabled-bg-color: #3B4455;\n",
              "      --disabled-fill-color: #666;\n",
              "  }\n",
              "\n",
              "  .colab-df-quickchart {\n",
              "    background-color: var(--bg-color);\n",
              "    border: none;\n",
              "    border-radius: 50%;\n",
              "    cursor: pointer;\n",
              "    display: none;\n",
              "    fill: var(--fill-color);\n",
              "    height: 32px;\n",
              "    padding: 0;\n",
              "    width: 32px;\n",
              "  }\n",
              "\n",
              "  .colab-df-quickchart:hover {\n",
              "    background-color: var(--hover-bg-color);\n",
              "    box-shadow: 0 1px 2px rgba(60, 64, 67, 0.3), 0 1px 3px 1px rgba(60, 64, 67, 0.15);\n",
              "    fill: var(--button-hover-fill-color);\n",
              "  }\n",
              "\n",
              "  .colab-df-quickchart-complete:disabled,\n",
              "  .colab-df-quickchart-complete:disabled:hover {\n",
              "    background-color: var(--disabled-bg-color);\n",
              "    fill: var(--disabled-fill-color);\n",
              "    box-shadow: none;\n",
              "  }\n",
              "\n",
              "  .colab-df-spinner {\n",
              "    border: 2px solid var(--fill-color);\n",
              "    border-color: transparent;\n",
              "    border-bottom-color: var(--fill-color);\n",
              "    animation:\n",
              "      spin 1s steps(1) infinite;\n",
              "  }\n",
              "\n",
              "  @keyframes spin {\n",
              "    0% {\n",
              "      border-color: transparent;\n",
              "      border-bottom-color: var(--fill-color);\n",
              "      border-left-color: var(--fill-color);\n",
              "    }\n",
              "    20% {\n",
              "      border-color: transparent;\n",
              "      border-left-color: var(--fill-color);\n",
              "      border-top-color: var(--fill-color);\n",
              "    }\n",
              "    30% {\n",
              "      border-color: transparent;\n",
              "      border-left-color: var(--fill-color);\n",
              "      border-top-color: var(--fill-color);\n",
              "      border-right-color: var(--fill-color);\n",
              "    }\n",
              "    40% {\n",
              "      border-color: transparent;\n",
              "      border-right-color: var(--fill-color);\n",
              "      border-top-color: var(--fill-color);\n",
              "    }\n",
              "    60% {\n",
              "      border-color: transparent;\n",
              "      border-right-color: var(--fill-color);\n",
              "    }\n",
              "    80% {\n",
              "      border-color: transparent;\n",
              "      border-right-color: var(--fill-color);\n",
              "      border-bottom-color: var(--fill-color);\n",
              "    }\n",
              "    90% {\n",
              "      border-color: transparent;\n",
              "      border-bottom-color: var(--fill-color);\n",
              "    }\n",
              "  }\n",
              "</style>\n",
              "\n",
              "  <script>\n",
              "    async function quickchart(key) {\n",
              "      const quickchartButtonEl =\n",
              "        document.querySelector('#' + key + ' button');\n",
              "      quickchartButtonEl.disabled = true;  // To prevent multiple clicks.\n",
              "      quickchartButtonEl.classList.add('colab-df-spinner');\n",
              "      try {\n",
              "        const charts = await google.colab.kernel.invokeFunction(\n",
              "            'suggestCharts', [key], {});\n",
              "      } catch (error) {\n",
              "        console.error('Error during call to suggestCharts:', error);\n",
              "      }\n",
              "      quickchartButtonEl.classList.remove('colab-df-spinner');\n",
              "      quickchartButtonEl.classList.add('colab-df-quickchart-complete');\n",
              "    }\n",
              "    (() => {\n",
              "      let quickchartButtonEl =\n",
              "        document.querySelector('#df-bdd368cc-bbc3-4fd0-9cbc-363d294d8fa0 button');\n",
              "      quickchartButtonEl.style.display =\n",
              "        google.colab.kernel.accessAllowed ? 'block' : 'none';\n",
              "    })();\n",
              "  </script>\n",
              "</div>\n",
              "\n",
              "    </div>\n",
              "  </div>\n"
            ],
            "application/vnd.google.colaboratory.intrinsic+json": {
              "type": "dataframe",
              "variable_name": "val_df",
              "summary": "{\n  \"name\": \"val_df\",\n  \"rows\": 202,\n  \"fields\": [\n    {\n      \"column\": \"document_id\",\n      \"properties\": {\n        \"dtype\": \"number\",\n        \"std\": 538,\n        \"min\": 185,\n        \"max\": 2684,\n        \"num_unique_values\": 81,\n        \"samples\": [\n          1629,\n          2504,\n          2486\n        ],\n        \"semantic_type\": \"\",\n        \"description\": \"\"\n      }\n    },\n    {\n      \"column\": \"context\",\n      \"properties\": {\n        \"dtype\": \"category\",\n        \"num_unique_values\": 81,\n        \"samples\": [\n          \"the intranasal application of zanamivir and carrageenan is synergistically active against influenza a virus in the murine model\\n\\nhttps://www.ncbi.nlm.nih.gov/pmc/articles/pmc4459876/\\n\\nsha: f0b1fa4036434b57c8307d43c39a4193f7e8053a\\n\\nauthors: morokutti-kurz, martina; k\\u00f6nig-schuster, marielle; koller, christiane; graf, christine; graf, philipp; kirchoff, norman; reutterer, benjamin; seifert, jan-marcus; unger, hermann; grassauer, andreas; prieschl-grassauer, eva; nakowitsch, sabine\\ndate: 2015-06-08\\ndoi: 10.1371/journal.pone.0128794\\nlicense: cc-by\\n\\nabstract: background: carrageenan is a clinically proven and marketed compound for the treatment of viral upper respiratory tract infections. as infections caused by influenza virus are often accompanied by infections with other respiratory viruses the combination of a specific anti-influenza compound with the broadly active antiviral polymer has huge potential for the treatment of respiratory infections. thus, the combination of the specific anti-influenza drug zanamivir together with carrageenan in a formulation suitable for intranasal application was evaluated in-vitro and in-vivo. principal findings: we show in-vitro that carrageenan and zanamivir act synergistically against several influenza a virus strains (h1n1(09)pdm, h3n2, h5n1, h7n7). moreover, we demonstrate in a lethal influenza model with a low pathogenic h7n7 virus (ha closely related to the avian influenza a(h7n9) virus) and a h1n1(09)pdm influenza virus in c57bl/6 mice that the combined use of both compounds significantly increases survival of infected animals in comparison with both mono-therapies or placebo. remarkably, this benefit is maintained even when the treatment starts up to 72 hours post infection. conclusion: a nasal spray containing carrageenan and zanamivir should therefore be tested for prevention and treatment of uncomplicated influenza in clinical trials.\\n\\ntext: the periodic appearance of new influenza variants poses a worldwide pandemic threat. since the emergence of the new a(h7n9) virus, more than 400 human cases were reported to the who with a mortality rate of more than 35%. most patients with a(h7n9) infections had contact with poultry or visited live animal markets. however, some sporadic cases seemed to be a result of human to human transmissions [1, 2] . in contrast to pandemic viruses which fulminantly enter the human population and cause high mortality rates, seasonal influenza viruses generally cause uncomplicated and transient infections in humans, with virus replication localized to the upper respiratory tract [3, 4] . however, in its fully developed form influenza is an acute respiratory disease resulting in hospitalizations and deaths mainly among high-risk groups. worldwide, annual epidemics result in about three to five million cases of severe illness, and about 250,000 to 500,000 deaths [5] . for this reason who [6] and cdc [7] recommend antiviral treatment for any patient with suspected influenza who is at risk for influenza complications without previous laboratory confirmation.\\n\\nit is known that influenza virus infections are often accompanied by other viral pathogens [8] . depending on the detection method (qrt-pcr or immunofluorescence) different ratios of co-infections have been found. analysis by qrt-pcr revealed that 54.5-83.3% of influenza a or b positive patients were found to have at least one concomitant respiratory viral infection [9] [10] [11] [12] . the detection frequency with immunofluorescence was found to be even higher (90-100%) [13, 14] . potential concomitant viral pathogens of influenza virus infections include human rhinovirus (hrv), respiratory syncytial virus, adenovirus, human coronavirus, human metapneumovirus and parainfluenza virus [14, 15] .\\n\\nas a result of the multiple infections, a specific anti-influenza mono-therapy treats the influenza virus infection only, but not the infection with the concomitant viral pathogen. hence, the therapy often fails to sufficiently resolve symptoms. this is also reflected by the fact that neuraminidase inhibitors (ni) are highly efficacious in animal models investigating influenza mono-infections [16, 17] but show lower efficacy against influenza symptoms in clinical trials in adults with natural infections [18] . therefore, there is a high medical need for a broadly acting antiviral therapy in combination with a specific anti-influenza therapy for treatment of patients suffering from upper respiratory tract symptoms. ideally, the substances present in the combination complement each other by different modes of action, leading to a treatment that provides full protection against a broad range of different respiratory viruses as well as different influenza strains with a low probability to induce escape mutations.\\n\\none approach for a broad antiviral therapy is the creation of a protective physical barrier in the nasal cavity using carrageenan. carrageenan is a high molecular weight sulfated polymer derived from red seaweed (rhodophyceae) that has been extensively used in food, cosmetic and pharmaceutical industry and is generally recognized as safe by the fda (gras) (reviewed in [19] ). three main forms of carrageenans are commercially used: kappa, iota and lambda. they differ from each other in the degree of sulfation, solubility and gelling properties [20] . the antiviral mechanism of carrageenan is based on the interference with viral attachment; as a consequence, viral entry is inhibited [21, 22] . its antiviral activity is dependent on the type of polymer as well as the virus and the host cells [23] [24] [25] [26] [27] [28] [29] [30] [31] [32] and has been reviewed in [33] [34] [35] . we published that iota-carrageenan is a potent inhibitor of hrv [36] and influenza a [37] replication and demonstrated the antiviral efficacy of iota-carrageenan against common cold viruses by intranasal application in several randomized, double-blind, parallel group, placebo-controlled clinical trials [38] [39] [40] . the pooled analysis of two studies conducted in 153 children and 203 adults revealed that patients infected with any respiratory virus, who were intranasally treated with iota-carrageenan showed a 1.9 day faster recovery from common cold symptoms than placebo treated patients in the intention-to-treat population [41, 42] . the anti-influenza activity was shown by subgroup analysis of 49 influenza infected patients who benefited from a 3.3 days faster recovery from symptoms. the use of carrageenan nasal spray was associated with a significant reduction of the influenza viral load in nasal fluids and a significant increase in the number of virus free patients within the treatment period of 7 days. in good accordance prieschl-grassauer are co-founders of marinomed biotechnologie gmbh. marinomed biotechnologie gmbh had a role in study design, data collection and analysis, decision to publish, preparation of the manuscript and is financing the processing charge of the manuscript. with the literature [9] [10] [11] [12] [13] [14] we observed that the majority of influenza virus infected patients suffered from a concomitant respiratory viral infection (66%) as determined by real-time pcr. carrageenan containing nasal sprays are already marketed for the treatment of respiratory viral infections under different brand names in 18 countries.\\n\\nat present the only available effective drugs for treatment and post exposure prevention of influenza are the ni (oseltamivir and zanamivir worldwide; peramivir in japan and south korea). since the large-scale use of m2 blockers for prophylaxis and treatment in humans [43] and farming [44] , the currently circulating influenza viruses already lack sensitivity to this drug group [45] .\\n\\nwe have already shown an additive therapeutic effect of a combination therapy with intranasally applied iota-carrageenan and orally administered oseltamivir in lethally h1n1 a/pr/ 8/34 infected mice and a treatment start 48 hours post infection (hpi) [37] .\\n\\ndue to these very promising results we further developed the concept of combining carrageenan with an ni therapy. in contrast to oseltamivir, which needs to be activated by metabolic conversion, zanamivir is directly applied as active drug and can also be administered intranasally [46] [47] [48] [49] [50] [51] [52] . the potential of an intranasal administration of zanamivir was investigated by glaxosmithkline. in seven clinical challenge trials 66 volunteers were infected with influenza b/yamagata/16/88 and 213 with influenza a/texas/36/91 (h1n1). 156 of these participants got intranasally applied zanamivir at different doses (daily dose levels from 6.4 mg to 96 mg) for prophylaxis or therapy [46, 47, 53, 54] . these challenge trials showed that treatment starting before and up to 36 hours post virus inoculation was associated with prevention of laboratory confirmed influenza and febrile illness as well as a reduction in viral titers, duration of shedding and symptoms. in total, safety data from 1092 patients after intranasal application of zanamivir were published and no evidence for zanamivir induced adverse events or increased frequencies of local nasal intolerance in comparison to placebo groups was found [46, 49, 52] .\\n\\ntaken together, the combination of a carrageenan nasal spray that provides broad antiviral activity against upper respiratory infections-including influenza-with zanamivir, a specific anti-influenza drug, meets the existing medical need to treat multiple viral infections. in the present work we investigate the therapeutic effect of a combination of carrageenan and zanamivir in-vitro and in an animal model.\\n\\nkappa-carrageenan and iota-carrageenan were purchased from fmc biopolymers (philadelphia, pa). the identity, purity (>95%) of carrageenan subtypes and the molecular weight (>100,000) was confirmed by nmr analysis as described elsewhere [55] and the presence of lambda-carrageenan was below the detection limit of 3%. the dry polymer powders were dissolved in aqua bidest (fresenius kabi, austria) to a final concentration of 2.4 mg/ml iota-and 0.8 mg/ml kappa-carrageenan. this 2x stock solution was sterile filtered through a 0.22 \\u03bcm filter (paa, switzerland) and stored at room temperature until use. for further testing the stock solution was diluted to a mixture containing 1.2 mg/ml iota-carrageenan and 0.4 mg/ml kappa-carrageenan (hereinafter referred to as \\\"carrageenan\\\").\\n\\nzanamivir was purchased as powder (haosun pharma, china) and the identity and purity was confirmed by nmr analysis. zanamivir was either dissolved in carrageenan or placebo solutions, followed by sterile filtration through a 0.22 \\u03bcm filter (sarstedt, germany). for in-vivo studies all zanamivir containing solutions were freshly prepared.\\n\\nmadin-darby canine kidney (mdck) cells were obtained from the american type culture collection (atcc, manassas, va) and cultivated in a 37\\u00b0c incubator (sanyo, japan; co 2 : 5%, relative humidity: >95%). mdck cells were grown in dulbecco's minimal essential (dmem) high glucose medium (paa, austria) supplemented with 10% fetal bovine serum (fbs; paa, austria; heat inactivated).\\n\\ninfluenza virus a/hansa hamburg/01/09 (h1n1(09)pdm) was kindly provided by peter staeheli department of virology, university of freiburg, germany and previously described in [56] ; a/teal/germany/wv632/05 (h5n1) previously published in [57] (accession numbers cy061882-9) and a/turkey/germany/r11/01 (h7n7) (taxonomy id 278191, accession number aez68716) were supplied by courtesy of martin beer, institute of diagnostic virology, friedrich-loeffler-institute, riems, germany; a/aichi/2/68 (h3n2) was purchased from the atcc. all influenza viruses were propagated in mdck cells at 37\\u00b0c and 5% co 2 in influenza medium [opti-pro serum free medium (gibco, austria) supplemented with 4 mm l-glutamine (paa, austria), 1% antibiotic-antimycotic mix (paa, austria) and 5 \\u03bcg/ml trypsin (sigma aldrich, austria)].\\n\\nto determine the 50% inhibitory concentration (ic 50 ) and the combination effect of carrageenan and zanamivir, a semi-liquid plaque assay was developed. into 96 well tissue culture plates 1.7x10 4 mdck cells/well were seeded and infected at 90% confluence (24-28 hours later). serial dilutions of carrageenan and zanamivir were prepared in assay medium (influenza medium without trypsin). for infection, viruses were diluted to an moi of 0.003 (h1n1(09)pdm and h3n2 aichi), 0.015 (h5n1) or 0.004 (h7n7), respectively, in assay medium and incubated at room temperature (rt) for 10 min with the serial dilutions of carrageenan and/or zanamivir, respectively. for evaluation of the combination effect of carrageenan and zanamivir, viruses were diluted in assay medium containing constant concentrations of either carrageenan or zanamivir. the other substance was serially diluted and used for virus incubation. cells were infected in 6 replicates/compound dilution, respectively, and incubated at rt for 45 min before inoculum removal. cells were further incubated with the respective concentration of the investigated substances present in the overlay [influenza medium with 2.25% carboxymethylcellulose (cmc, fluka, austria)] for 30-42 hours at 37\\u00b0c. evolving plaques were evaluated after methanol/acetone cell fixation by immune staining with antibodies either directed against the influenza a nucleoprotein (abd serotec, germany) (for h1n1(09)pdm, h5n1 and h7n7) or the hemagglutinin (abd serotec, germany) (for h3n2). analysis was done with a hrp labeled detection antibody (thermo scientific, germany) using tmb (biolegend, germany) as substrate and a microplate reader at 450 nm. the reduction of detected signal represents a reduction in the number and size of plaques and indicates suppression of viral replication during infection and cultivation.\\n\\nafter the immunostaining cells were stained with 0.005% crystal violet solution to assess the condition of the cell layer and the toxicity of the compounds. ic 50 values and standard deviations were calculated for a sigmoidal dose response model using xlfit excel add-in version 5.3.1.3.\\n\\nall animal experiments were carried out according to the guidelines of the \\\"european convention for the protection of vertebrate animals used for experimental and other scientific purposes\\\" and the austrian law for animal experiments. all animal experiments were approved by the veterinary university of vienna institutional ethics committee and performed under the austrian federal ministry of science and research experimental animal license numbers bmwf-68.205/0262-ii/3b/2011 and bmwf-68.205/0142-ii/3b2012. c57bl/6 mice were purchased from janvier labs, france and maintained under standard laboratory conditions in the animal facilities of the veterinary university of vienna. for euthanasia and anesthesia asphyxiation through co 2 was used and all efforts were made to minimize suffering.\\n\\nfor infection experiments, 3-5 weeks old female mice were intranasally inoculated with 50 \\u03bcl influenza virus solution (25 \\u03bcl/nostril) containing 2.27x10 3 or 1.65x10 3 plaque-forming unit of h1n1(09)pdm or h7n7, respectively. subsequently, treatment started 24, 48 or 72 hpi, as indicated for the different experiments. treatment was performed intranasally either with 50 \\u03bcl therapeutic solution or placebo twice per day for 5 days. as therapy either carrageenan (containing 1.2 mg/ml iota-carrageenan and 0.4 mg/ml kappa-carrageenan to provide a daily dose of 12 mg/kg body weight (bw)), zanamivir (containing either 130 \\u03bcg/ml or 390 \\u03bcg/ml zanamivir, to provide a daily dose of 1 or 3 mg/kg bw, respectively) or a combination of carrageenan and zanamivir were used. carrageenan and zanamivir are used at non-toxic concentrations as shown by [58] and [59] . mice were monitored twice daily for 15 days for survival and weight loss. mortality also includes mice that were sacrificed for ethical considerations when they had lost more than 25% of their initial body weight. we confirm the viral infection in these animals by necropsy and scoring of the lung inflammation.\\n\\nas the mechanisms underlying the antiviral activity of ni and carrageenans are fundamentally distinct, they are likely to exhibit different activities towards the individual influenza virus strains. as a result, in combination they could complement each other to provide protection against a broader spectrum of influenza virus strains than the individual compounds.\\n\\nto test this hypothesis, we investigated the sensitivity of various influenza virus strains to zanamivir and carrageenan in an adapted plaque reduction assay with semi-liquid overlay in mdck cells [60, 61] . using this method, we determined the ic 50 of zanamivir and carrageenan against influenza a viruses of human and animal origin, namely h1n1(09)pdm (a/hansa hamburg/01/09), h3n2 (a/aichi/2/68), low pathogenic (lp) h5n1 (a/teal/germany/ wv632/05) and lp h7n7 (a/turkey/germany/r11/01) ( table 1) . both substances were nontoxic at the highest tested concentration (400 \\u03bcm zanamivir and 533 \\u03bcg/ml carrageenan), neither was their combination. furthermore, cmc in the overlay did not show any virus inhibitory effect (data not shown). inhibition of viral replication of all tested influenza strains was achieved with both substances. however, the ic 50 values varied widely depending on the influenza virus strain. the ic 50 values of zanamivir ranged between 0.18 \\u03bcm for h5n1 and 22.97 \\u03bcm for h7n7 and that of carrageenan from 0.39 \\u03bcg/ml to 118.48 \\u03bcg/ml for h1n1(09)pdm and h7n7, respectively (see table 1 ). these results demonstrate that carrageenan and zanamivir target individual influenza strains to different extents so that they may complement each other to provide broader anti-influenza activity.\\n\\nthe type of compound interaction was characterized by employing isobolograms (fig 1) . as described in [62] , isobolograms graphically compare the doses of two compounds needed to reach 50% inhibition to the predicted doses calculated based on a model of drug additivity. a curve linearity of~1 is expected for an additive compound interaction whereas a curve progression <1 argue for synergistic and >1 for an antagonistic compound interaction.\\n\\ntwo virus strains were selected for those experiments, one being the most sensitive to carrageenan (h1n1(09)pdm) and one being the least sensitive (h7n7). in both cases the isobolograms show a synergistic interaction of carrageenan and zanamivir (fig 1) . thus, it was shown that zanamivir and carrageenan target individual influenza viruses with different efficiencies, most probably due to their different antiviral strategies. as a result, the combination provides synergistic activity with higher protection against a broader spectrum of influenza virus strains than the individual compounds. \\n\\nin the influenza animal model, c57bl/6 mice are challenged with a lethal dose of the respective virus and treated with different regimens in comparison to a vehicle control (placebo). infection and treatment (twice a day for 5 days) are done intranasally without anesthesia. we investigated whether the combination of zanamivir and carrageenan is more efficacious in reducing mortality than the corresponding mono-therapies.\\n\\nfirst, we determined the minimal effective dose of a zanamivir mono-therapy that significantly improved survival time of h1n1 and h7n7 infected mice. for the h7n7 lethal infection the minimal effective dose of zanamivir as mono-therapy ranged between 1 and 3 mg/kg bw/ day (data not shown). next, we compared the antiviral activity of carrageenan (12 mg/kg bw/ day) and zanamivir (1 and 3 mg/kg bw/day) mono-therapies with the respective combination versus placebo treatment. survival rates of mice with treatment starting 24 hpi are shown in fig 2a. all placebo treated mice died between day 7 and 9 and also in all mono-therapy groups 100% lethality was observed until day 15. in contrast, the combination therapies led to 50% and 90% survival, depending on the zanamivir concentration. statistical analysis showed that the zanamivir mono-therapy 1 mg/kg bw/day did not show a significant benefit (p = 0.1810), whereas the mono-therapy with 3 mg/kg bw/day significantly increased the survival rate compared with placebo treated mice (p = 0.0016). both zanamivir concentrations experienced significant benefit in survival by the combination with carrageenan (p<0.0001). similarly, the combination therapies resulted in remarkably increased survival (p = 0.0421 for 1 mg and p<0.0001 for 3 mg/kg bw/day) when compared to the carrageenan mono-therapy. no statistically significant difference was observed between the combination containing 3 mg/kg bw/day zanamivir and that containing 1 mg/kg bw/day (p = 0.0525). however, a trend for an increased survival rate with the higher zanamivir concentration was evident. therefore, for further investigation the combination therapy containing 3 mg/kg bw/day zanamivir was evaluated in lethally h7n7 infected mice.\\n\\nnext, the therapeutic potential of the combination with a delayed therapy start 48 or 72 hpi versus placebo treatment was explored. the survival rates of mice are shown in fig 2b. all placebo treated mice died until day 10 and also in the group with the treatment start 72 hpi 100% lethality was found. in contrast, the combination therapy starting 48 hpi provided a statistically significant enhanced survival rate in comparison to placebo-treated mice (p = 0.0010).\\n\\nin summary, the combination of two effective, established mono-therapies resulted in a significantly enhanced survival in lethally h7n7 infected mice. additionally, the combination therapy was highly efficient in comparison to placebo treatment even after a treatment onset up to 48 hpi.\\n\\nintranasal therapy with carrageenan and zanamivir starting 72 hpi significantly protects lethally influenza h1n1(09)pdm infected mice next, the minimal effective dose of zanamivir used as mono-therapy was evaluated in a lethal h1n1(09)pdm mouse model, following the same scheme as described in the h7n7 experiments. the lowest effective dose of zanamivir after a treatment start 24 hpi was 1 mg/kg bw/ day and its combination with carrageenan was highly effective (data not shown). in the following experiment the therapeutic potential of the combination with a therapy start 48 or 72 hpi was investigated in comparison with the respective placebo treatment.\\n\\nas shown in fig 3, the survival rates of mice treated with the combination therapy were highly significantly increased in comparison to the placebo group (p<0.0001). there was no difference in survival between the two therapy starting points, 48 or 72 hpi, which both resulted \\n\\nwe investigated the antiviral effect of a combination of carrageenan with the ni zanamivir in cell culture studies and in mouse influenza infection models. we have previously shown that a combined therapy of iota-carrageenan with the ni oseltamivir led to significantly enhanced survival in mice infected with h1n1 pr/8/34 in comparison with the respective mono-therapies [37] . however, oseltamivir is an orally administered prodrug, which has to be converted into its active form by metabolic processing. therefore, a further development of a combination nasal spray was not possible with oseltamivir. instead zanamivir-a ni that is applied as active drug-was chosen for the development of a compound combination.\\n\\nduring the evaluation process we found that the binding efficiency of different carrageenan subtypes on different influenza strains varies. the combined use of iota-and kappa-carrageenan for the treatment of lethally influenza infected c57bl/6 mice revealed a better therapeutic effect than the use of iota-carrageenan alone (s1 fig). thus, to provide a broader spectrum of activity against different influenza virus strains, a mixture of iota-and kappa-carrageenan (designated as carrageenan) was used for further evaluation.\\n\\nfor investigation of the effect of a compound combination of carrageenan and zanamivir, we examined their inhibition efficiency, individually and in combination, against influenza viruses in an adapted plaque reduction assay with semi-liquid overlay in mdck cells. the combination showed a synergistic inhibition of virus replication in in-vitro assays with all tested influenza viruses (fig 1) . this indicates that the physical interaction of the polymer with the virus does not disturb the inhibition of the neuraminidase by zanamivir. this was confirmed in in-vitro tests examining a potential influence of the polymer on the neuraminidase inhibiting activity of zanamivir (data not shown). hence, the observed synergistic effect is based on the combination of two distinct underlying mechanisms. as a result, in the proposed combination both mechanisms would complement each other to provide more efficient protection against a broader spectrum of influenza virus strains than the individual compounds.\\n\\nthe synergistic effect was also shown in lethal mice models (fig 2 and fig 3) . the pathogenicity of influenza viruses in mice varies and is dependent on the strain and its adaptation to the host. depending on virus dose and strain, influenza viruses can induce lethal infections in certain mouse strains usually within two weeks [37, 63] . in our model, c57bl/6 mice are challenged intranasally with a lethal dose of the respective virus and treated with different regimens in comparison to a vehicle control (placebo). in such a model, early virus replication takes place in the upper respiratory tract. from there, virus spreads to the lung and causes lethal pneumonia. the effect of the treatment on mortality is assessed in comparison to placebotreated control mice. of all in-vitro tested influenza strains the h1n1(09)pdm and the lp h7n7 are particularly interesting for two reasons. first, they are highly relevant pathogens, as placebo or with the mono-therapies consisting of carrageenan (12 mg/kg bw/day) or zanamivir (1 and 3 mg/ kg bw/day) or a combination thereof. treatment started 24 hpi and continued for 5 days. (b) mice (n = 20 per group) were lethally intranasally infected without anesthesia on day 0 and intranasally treated twice per day either with placebo or a combination of carrageenan with zanamivir (3 mg/kg bw/day). treatment started either 48 hpi or 72 hpi and continued for 5 days. on the y-axis the survival of mice [%] and on the x-axis the time post infection [days] is given. placebo treated uninfected control mice showed 100% survival in both experiments (data not shown). statistical analyses were conducted using log rank test and are shown beneath the graphs. values of p<0.05 were considered statistically significant; non-significance (n.s.) was obtained with p-values >0.05. both are involved in recent influenza outbreaks. the h1n1(09)pdm is associated with more than 18,400 deaths in the season 2009/2010 while the lp h7n7 carries an ha closely related to that of the avian influenza h7n9 virus which has caused more than 175 deaths until october 2014 [64] . second, they are of special interest for the carrageenan/zanamivir combination approach. they have shown to differ in in-vitro susceptibility to carrageenan, zanamivir (table 1 ) and the combination thereof (fig 1) . while h1n1(09)pdm was highly sensitive to inhibition by both substances alone, h7n7 required much higher concentrations of carrageenan and zanamivir, respectively, to achieve similar inhibition efficiencies. therefore, both virus strains were chosen to further explore the efficiency of the combination therapy in a mouse model.\\n\\nwe established lethal mouse models with both viruses that resulted in 6.8 and 8.5 mean survival days for lp h7n7 and h1n1(09)pdm, respectively. these results are in good accordance to similar already published lethal influenza models [65] [66] [67] . in our models the lowest effective dose for zanamivir at a treatment start 24 hpi was found to be between 1 to 3 mg/kg bw/day for both viruses. this concentration range is relatively high in comparison to other published studies. however, these studies were done under anesthesia with different viruses and a prophylactic therapy start [65, 66] . the fact that a higher dose of ni is needed for an effective treatment when the therapy starts 24 hpi is already known for oseltamivir [68] . nonetheless, also data with much higher effective concentrations (10 mg/kg bw/day [69] ) and with similar concentrations of zanamivir (2.5 mg/kg bw/day [67] ) were published as well.\\n\\nwe found that the combination of carrageenan with 3 mg/kg bw/day zanamivir used for treatment of h7n7 infected mice resulted in significantly enhanced survival of mice in comparison to both mono-therapies (fig 2) . the significantly enhanced survival compared to the placebo treated group was also found after a delayed treatment start 48 hpi. furthermore, in the h1n1(09)pdm model the combination of carrageenan with 1 mg/kg bw/day zanamivir showed statistically significant enhanced survival in comparison to placebo treatment even after a treatment start 72 hpi. this is a remarkable finding since nis are normally not effective when applied 72 hpi.\\n\\nthe finding supports the development of the zanamivir and carrageenan combination approach. as the intranasal treatment regime is incapable to effectively treat virus infections of the lung, the primary target of such a product is the prophylaxis and therapy of uncomplicated influenza. since the majority of influenza infections causes uncomplicated illnesses and practically all cases of influenza start with an infection of the nasal cavity or the upper respiratory tract, the therapeutic potential is huge. however, clinical studies are required to elucidate and demonstrate the potential of the proposed combination therapy.\\n\\ncombination of antiviral strategies has led to impressive achievements in the combat against other viral disease like hiv. in particular the problem of antiviral resistance could be addressed with this strategy. in the last decade concerns have been raised about the increased emergence of oseltamivir resistant influenza viruses. the augmented appearance of viruses carrying the mutation h275y in the neuraminidase of h1n1(09)pdm viruses that confers resistance to oseltamivir left zanamivir as only treatment option for symptomatic patients infected with an oseltamivir resistant influenza strain [70] . in contrast to oseltamivir, resistance to zanamivir is less frequent. to date, zanamivir resistant influenza has been detected only once, in an immunocompromised patient [71, 72] . however, lessons should be learned from previous anti-influenza interventions which resulted in occurrence of resistance against currently approved drugs [73] . therefore, concerns are comprehensible that an increased zanamivir use may also lead to the rapid emergence of resistances [74] . to overcome this threat, a combination of antivirals which inhibits virus replication by distinct mechanisms is a valid strategy. we checked for the possibility of generating double compound escape mutant viruses while passaging viruses in the presence of increasing concentrations of compound combinations. after 10 passages in mdck cells no resistance to the compound combination for any tested influenza virus could be found (data not shown). however, this finding does not guarantee that emergence of zanamivir escape mutants can be completely halted.\\n\\nin summary, we demonstrated that the anti-influenza mechanisms of both single compounds complement each other. the combination provides synergistically better protection against a broader spectrum of influenza viruses than the individual compounds.\\n\\na nasal spray containing carrageenan together with zanamivir provides an easy to apply treatment of upper respiratory tract infections in patients under suspicion to be influenza infected. patients would benefit from the fast and efficient treatment of uncomplicated influenza in the upper respiratory tract. due to the faster influenza virus clearance from the upper respiratory tract and the independent antiviral mechanism of carrageenan and zanamivir the likelihood to develop escape mutations against zanamivir will be reduced. both individual compounds are able to reduce severity and/or duration of the influenza illness and a combination is expected to work similarly. additionally, due to the broad antiviral effectiveness of carrageenan, patients will receive in parallel a treatment of concomitant viral infections. therefore, patients will benefit from a decreased probability to develop complications. in consideration of the complications known to accompany an influenza virus illness this combinational therapy meets an urgent medical need.\\n\\na second scope of this combination is the protection against newly emerging pandemic viruses during the time until identification of the virus followed by manufacturing and distribution of vaccines [43] . even if, due to new reverse genetic techniques, less time for production of vaccines is needed, it still takes months before large quantities of vaccine are available [75] . during this time the human population should be protected to decelerate viral spread. at the moment the only available opportunities for personal protection are hygiene measures and the use of tamiflu (brand name of oseltamivir).\\n\\nnovel protection and treatment options for influenza are desperately needed. based on our encouraging results in mice we suggest testing a nasal spray containing carrageenan in combination with the neuraminidase inhibitor zanamivir in clinical trials for prevention or treatment of uncomplicated influenza infections.\\n\\nsupporting information s1 fig. therapeutic efficacy of iota-carrageenan solely or together with kappa-carrageenan in influenza h7n7 lethal infected mice. mice (n = 20 per group) were lethally intranasally infected without anesthesia on day 0 and accordingly intranasally treated twice per day either with placebo or with iota-carrageenan or with a mixture of iota-and kappa-carrageenan. treatment started 24 hpi and continued for 5 days. on the y-axis the survival of mice [%] and on the x-axis the time post infection [days] is given. placebo treated, uninfected control mice showed 100% survival (data not shown). statistical analyses were conducted using log rank test and are shown beneath the graphs. values of p<0.05 were considered statistically significant; non-significance (n.s.) was obtained with p-values >0.05. (tiff)\",\n          \"respiratory viral infections in exacerbation of chronic airway inflammatory diseases: novel mechanisms and insights from the upper airway epithelium\\n\\nhttps://www.ncbi.nlm.nih.gov/pmc/articles/pmc7052386/\\n\\nsha: 45a566c71056ba4faab425b4f7e9edee6320e4a4\\n\\nauthors: tan, kai sen; lim, rachel liyu; liu, jing; ong, hsiao hui; tan, vivian jiayi; lim, hui fang; chung, kian fan; adcock, ian m.; chow, vincent t.; wang, de yun\\ndate: 2020-02-25\\ndoi: 10.3389/fcell.2020.00099\\nlicense: cc-by\\n\\nabstract: respiratory virus infection is one of the major sources of exacerbation of chronic airway inflammatory diseases. these exacerbations are associated with high morbidity and even mortality worldwide. the current understanding on viral-induced exacerbations is that viral infection increases airway inflammation which aggravates disease symptoms. recent advances in in vitro air-liquid interface 3d cultures, organoid cultures and the use of novel human and animal challenge models have evoked new understandings as to the mechanisms of viral exacerbations. in this review, we will focus on recent novel findings that elucidate how respiratory viral infections alter the epithelial barrier in the airways, the upper airway microbial environment, epigenetic modifications including mirna modulation, and other changes in immune responses throughout the upper and lower airways. first, we reviewed the prevalence of different respiratory viral infections in causing exacerbations in chronic airway inflammatory diseases. subsequently we also summarized how recent models have expanded our appreciation of the mechanisms of viral-induced exacerbations. further we highlighted the importance of the virome within the airway microbiome environment and its impact on subsequent bacterial infection. this review consolidates the understanding of viral induced exacerbation in chronic airway inflammatory diseases and indicates pathways that may be targeted for more effective management of chronic inflammatory diseases.\\n\\ntext: the prevalence of chronic airway inflammatory disease is increasing worldwide especially in developed nations (gbd 2015 chronic respiratory disease collaborators, 2017 guan et al., 2018) . this disease is characterized by airway inflammation leading to complications such as coughing, wheezing and shortness of breath. the disease can manifest in both the upper airway (such as chronic rhinosinusitis, crs) and lower airway (such as asthma and chronic obstructive pulmonary disease, copd) which greatly affect the patients' quality of life (calus et al., 2012; bao et al., 2015) . treatment and management vary greatly in efficacy due to the complexity and heterogeneity of the disease. this is further complicated by the effect of episodic exacerbations of the disease, defined as worsening of disease symptoms including wheeze, cough, breathlessness and chest tightness (xepapadaki and papadopoulos, 2010) . such exacerbations are due to the effect of enhanced acute airway inflammation impacting upon and worsening the symptoms of the existing disease (hashimoto et al., 2008; viniol and vogelmeier, 2018) . these acute exacerbations are the main cause of morbidity and sometimes mortality in patients, as well as resulting in major economic burdens worldwide. however, due to the complex interactions between the host and the exacerbation agents, the mechanisms of exacerbation may vary considerably in different individuals under various triggers. acute exacerbations are usually due to the presence of environmental factors such as allergens, pollutants, smoke, cold or dry air and pathogenic microbes in the airway (gautier and charpin, 2017; viniol and vogelmeier, 2018) . these agents elicit an immune response leading to infiltration of activated immune cells that further release inflammatory mediators that cause acute symptoms such as increased mucus production, cough, wheeze and shortness of breath. among these agents, viral infection is one of the major drivers of asthma exacerbations accounting for up to 80-90% and 45-80% of exacerbations in children and adults respectively (grissell et al., 2005; xepapadaki and papadopoulos, 2010; jartti and gern, 2017; adeli et al., 2019) . viral involvement in copd exacerbation is also equally high, having been detected in 30-80% of acute copd exacerbations (kherad et al., 2010; jafarinejad et al., 2017; stolz et al., 2019) . whilst the prevalence of viral exacerbations in crs is still unclear, its prevalence is likely to be high due to the similar inflammatory nature of these diseases (rowan et al., 2015; tan et al., 2017) . one of the reasons for the involvement of respiratory viruses' in exacerbations is their ease of transmission and infection (kutter et al., 2018) . in addition, the high diversity of the respiratory viruses may also contribute to exacerbations of different nature and severity (busse et al., 2010; costa et al., 2014; jartti and gern, 2017) . hence, it is important to identify the exact mechanisms underpinning viral exacerbations in susceptible subjects in order to properly manage exacerbations via supplementary treatments that may alleviate the exacerbation symptoms or prevent severe exacerbations.\\n\\nwhile the lower airway is the site of dysregulated inflammation in most chronic airway inflammatory diseases, the upper airway remains the first point of contact with sources of exacerbation. therefore, their interaction with the exacerbation agents may directly contribute to the subsequent responses in the lower airway, in line with the \\\"united airway\\\" hypothesis. to elucidate the host airway interaction with viruses leading to exacerbations, we thus focus our review on recent findings of viral interaction with the upper airway. we compiled how viral induced changes to the upper airway may contribute to chronic airway inflammatory disease exacerbations, to provide a unified elucidation of the potential exacerbation mechanisms initiated from predominantly upper airway infections.\\n\\ndespite being a major cause of exacerbation, reports linking respiratory viruses to acute exacerbations only start to emerge in the late 1950s (pattemore et al., 1992) ; with bacterial infections previously considered as the likely culprit for acute exacerbation (stevens, 1953; message and johnston, 2002) . however, with the advent of pcr technology, more viruses were recovered during acute exacerbations events and reports implicating their role emerged in the late 1980s (message and johnston, 2002) . rhinovirus (rv) and respiratory syncytial virus (rsv) are the predominant viruses linked to the development and exacerbation of chronic airway inflammatory diseases (jartti and gern, 2017) . other viruses such as parainfluenza virus (piv), influenza virus (ifv) and adenovirus (adv) have also been implicated in acute exacerbations but to a much lesser extent (johnston et al., 2005; oliver et al., 2014; ko et al., 2019) . more recently, other viruses including bocavirus (bov), human metapneumovirus (hmpv), certain coronavirus (cov) strains, a specific enterovirus (ev) strain ev-d68, human cytomegalovirus (hcmv) and herpes simplex virus (hsv) have been reported as contributing to acute exacerbations . the common feature these viruses share is that they can infect both the upper and/or lower airway, further increasing the inflammatory conditions in the diseased airway (mallia and johnston, 2006; britto et al., 2017) .\\n\\nrespiratory viruses primarily infect and replicate within airway epithelial cells . during the replication process, the cells release antiviral factors and cytokines that alter local airway inflammation and airway niche (busse et al., 2010) . in a healthy airway, the inflammation normally leads to type 1 inflammatory responses consisting of activation of an antiviral state and infiltration of antiviral effector cells. this eventually results in the resolution of the inflammatory response and clearance of the viral infection (vareille et al., 2011; braciale et al., 2012) . however, in a chronically inflamed airway, the responses against the virus may be impaired or aberrant, causing sustained inflammation and erroneous infiltration, resulting in the exacerbation of their symptoms (mallia and johnston, 2006; dougherty and fahy, 2009; busse et al., 2010; britto et al., 2017; linden et al., 2019) . this is usually further compounded by the increased susceptibility of chronic airway inflammatory disease patients toward viral respiratory infections, thereby increasing the frequency of exacerbation as a whole (dougherty and fahy, 2009; busse et al., 2010; linden et al., 2019) . furthermore, due to the different replication cycles and response against the myriad of respiratory viruses, each respiratory virus may also contribute to exacerbations via different mechanisms that may alter their severity. hence, this review will focus on compiling and collating the current known mechanisms of viral-induced exacerbation of chronic airway inflammatory diseases; as well as linking the different viral infection pathogenesis to elucidate other potential ways the infection can exacerbate the disease. the review will serve to provide further understanding of viral induced exacerbation to identify potential pathways and pathogenesis mechanisms that may be targeted as supplementary care for management and prevention of exacerbation. such an approach may be clinically significant due to the current scarcity of antiviral drugs for the management of viral-induced exacerbations. this will improve the quality of life of patients with chronic airway inflammatory diseases.\\n\\nonce the link between viral infection and acute exacerbations of chronic airway inflammatory disease was established, there have been many reports on the mechanisms underlying the exacerbation induced by respiratory viral infection. upon infecting the host, viruses evoke an inflammatory response as a means of counteracting the infection. generally, infected airway epithelial cells release type i (ifn\\u03b1/\\u03b2) and type iii (ifn\\u03bb) interferons, cytokines and chemokines such as il-6, il-8, il-12, rantes, macrophage inflammatory protein 1\\u03b1 (mip-1\\u03b1) and monocyte chemotactic protein 1 (mcp-1) (wark and gibson, 2006; matsukura et al., 2013) . these, in turn, enable infiltration of innate immune cells and of professional antigen presenting cells (apcs) that will then in turn release specific mediators to facilitate viral targeting and clearance, including type ii interferon (ifn\\u03b3), il-2, il-4, il-5, il-9, and il-12 (wark and gibson, 2006; singh et al., 2010; braciale et al., 2012) . these factors heighten local inflammation and the infiltration of granulocytes, t-cells and b-cells (wark and gibson, 2006; braciale et al., 2012) . the increased inflammation, in turn, worsens the symptoms of airway diseases.\\n\\nadditionally, in patients with asthma and patients with crs with nasal polyp (crswnp), viral infections such as rv and rsv promote a type 2-biased immune response (becker, 2006; jackson et al., 2014; jurak et al., 2018) . this amplifies the basal type 2 inflammation resulting in a greater release of il-4, il-5, il-13, rantes and eotaxin and a further increase in eosinophilia, a key pathological driver of asthma and crswnp (wark and gibson, 2006; singh et al., 2010; chung et al., 2015; dunican and fahy, 2015) . increased eosinophilia, in turn, worsens the classical symptoms of disease and may further lead to life-threatening conditions due to breathing difficulties. on the other hand, patients with copd and patients with crs without nasal polyp (crssnp) are more neutrophilic in nature due to the expression of neutrophil chemoattractants such as cxcl9, cxcl10, and cxcl11 (cukic et al., 2012; brightling and greening, 2019) . the pathology of these airway diseases is characterized by airway remodeling due to the presence of remodeling factors such as matrix metalloproteinases (mmps) released from infiltrating neutrophils (linden et al., 2019) . viral infections in such conditions will then cause increase neutrophilic activation; worsening the symptoms and airway remodeling in the airway thereby exacerbating copd, crssnp and even crswnp in certain cases (wang et al., 2009; tacon et al., 2010; linden et al., 2019) .\\n\\nan epithelial-centric alarmin pathway around il-25, il-33 and thymic stromal lymphopoietin (tslp), and their interaction with group 2 innate lymphoid cells (ilc2) has also recently been identified (nagarkar et al., 2012; hong et al., 2018; allinne et al., 2019) . il-25, il-33 and tslp are type 2 inflammatory cytokines expressed by the epithelial cells upon injury to the epithelial barrier (gabryelska et al., 2019; roan et al., 2019) . ilc2s are a group of lymphoid cells lacking both b and t cell receptors but play a crucial role in secreting type 2 cytokines to perpetuate type 2 inflammation when activated (scanlon and mckenzie, 2012; li and hendriks, 2013) . in the event of viral infection, cell death and injury to the epithelial barrier will also induce the expression of il-25, il-33 and tslp, with heighten expression in an inflamed airway (allakhverdi et al., 2007; goldsmith et al., 2012; byers et al., 2013; shaw et al., 2013; beale et al., 2014; jackson et al., 2014; uller and persson, 2018; ravanetti et al., 2019) . these 3 cytokines then work in concert to activate ilc2s to further secrete type 2 cytokines il-4, il-5, and il-13 which further aggravate the type 2 inflammation in the airway causing acute exacerbation (camelo et al., 2017) . in the case of copd, increased ilc2 activation, which retain the capability of differentiating to ilc1, may also further augment the neutrophilic response and further aggravate the exacerbation (silver et al., 2016) . interestingly, these factors are not released to any great extent and do not activate an ilc2 response during viral infection in healthy individuals (yan et al., 2016; tan et al., 2018a) ; despite augmenting a type 2 exacerbation in chronically inflamed airways (jurak et al., 2018) . these classical mechanisms of viral induced acute exacerbations are summarized in figure 1 .\\n\\nas integration of the virology, microbiology and immunology of viral infection becomes more interlinked, additional factors and figure 1 | current understanding of viral induced exacerbation of chronic airway inflammatory diseases. upon virus infection in the airway, antiviral state will be activated to clear the invading pathogen from the airway. immune response and injury factors released from the infected epithelium normally would induce a rapid type 1 immunity that facilitates viral clearance. however, in the inflamed airway, the cytokines and chemokines released instead augmented the inflammation present in the chronically inflamed airway, strengthening the neutrophilic infiltration in copd airway, and eosinophilic infiltration in the asthmatic airway. the effect is also further compounded by the participation of th1 and ilc1 cells in the copd airway; and th2 and ilc2 cells in the asthmatic airway.\\n\\nfrontiers in cell and developmental biology | www.frontiersin.org mechanisms have been implicated in acute exacerbations during and after viral infection (murray et al., 2006) . murray et al. (2006) has underlined the synergistic effect of viral infection with other sensitizing agents in causing more severe acute exacerbations in the airway. this is especially true when not all exacerbation events occurred during the viral infection but may also occur well after viral clearance (kim et al., 2008; stolz et al., 2019) in particular the late onset of a bacterial infection (singanayagam et al., 2018 (singanayagam et al., , 2019a . in addition, viruses do not need to directly infect the lower airway to cause an acute exacerbation, as the nasal epithelium remains the primary site of most infections. moreover, not all viral infections of the airway will lead to acute exacerbations, suggesting a more complex interplay between the virus and upper airway epithelium which synergize with the local airway environment in line with the \\\"united airway\\\" hypothesis (kurai et al., 2013) . on the other hand, viral infections or their components persist in patients with chronic airway inflammatory disease (kling et al., 2005; wood et al., 2011; ravi et al., 2019) . hence, their presence may further alter the local environment and contribute to current and future exacerbations. future studies should be performed using metagenomics in addition to pcr analysis to determine the contribution of the microbiome and mycobiome to viral infections. in this review, we highlight recent data regarding viral interactions with the airway epithelium that could also contribute to, or further aggravate, acute exacerbations of chronic airway inflammatory diseases.\\n\\npatients with chronic airway inflammatory diseases have impaired or reduced ability of viral clearance (hammond et al., 2015; mckendry et al., 2016; akbarshahi et al., 2018; gill et al., 2018; wang et al., 2018; singanayagam et al., 2019b) . their impairment stems from a type 2-skewed inflammatory response which deprives the airway of important type 1 responsive cd8 cells that are responsible for the complete clearance of virusinfected cells (becker, 2006; mckendry et al., 2016) . this is especially evident in weak type 1 inflammation-inducing viruses such as rv and rsv (kling et al., 2005; wood et al., 2011; ravi et al., 2019) . additionally, there are also evidence of reduced type i (ifn\\u03b2) and iii (ifn\\u03bb) interferon production due to type 2-skewed inflammation, which contributes to imperfect clearance of the virus resulting in persistence of viral components, or the live virus in the airway epithelium (contoli et al., 2006; hwang et al., 2019; wark, 2019) . due to the viral components remaining in the airway, antiviral genes such as type i interferons, inflammasome activating factors and cytokines remained activated resulting in prolong airway inflammation (wood et al., 2011; essaidi-laziosi et al., 2018) . these factors enhance granulocyte infiltration thus prolonging the exacerbation symptoms. such persistent inflammation may also be found within dna viruses such as adv, hcmv and hsv, whose infections generally persist longer (imperiale and jiang, 2015) , further contributing to chronic activation of inflammation when they infect the airway (yang et al., 2008; morimoto et al., 2009; imperiale and jiang, 2015; lan et al., 2016; tan et al., 2016; kowalski et al., 2017) . with that note, human papilloma virus (hpv), a dna virus highly associated with head and neck cancers and respiratory papillomatosis, is also linked with the chronic inflammation that precedes the malignancies (de visser et al., 2005; gillison et al., 2012; bonomi et al., 2014; fernandes et al., 2015) . therefore, the role of hpv infection in causing chronic inflammation in the airway and their association to exacerbations of chronic airway inflammatory diseases, which is scarcely explored, should be investigated in the future. furthermore, viral persistence which lead to continuous expression of antiviral genes may also lead to the development of steroid resistance, which is seen with rv, rsv, and piv infection (chi et al., 2011; ford et al., 2013; papi et al., 2013) . the use of steroid to suppress the inflammation may also cause the virus to linger longer in the airway due to the lack of antiviral clearance (kim et al., 2008; hammond et al., 2015; hewitt et al., 2016; mckendry et al., 2016; singanayagam et al., 2019b) . the concomitant development of steroid resistance together with recurring or prolong viral infection thus added considerable burden to the management of acute exacerbation, which should be the future focus of research to resolve the dual complications arising from viral infection.\\n\\non the other end of the spectrum, viruses that induce strong type 1 inflammation and cell death such as ifv (yan et al., 2016; guibas et al., 2018) and certain cov (including the recently emerged covid-19 virus) (tao et al., 2013; yue et al., 2018; zhu et al., 2020) , may not cause prolonged inflammation due to strong induction of antiviral clearance. these infections, however, cause massive damage and cell death to the epithelial barrier, so much so that areas of the epithelium may be completely absent post infection (yan et al., 2016; tan et al., 2019) . factors such as rantes and cxcl10, which recruit immune cells to induce apoptosis, are strongly induced from ifv infected epithelium (ampomah et al., 2018; tan et al., 2019) . additionally, necroptotic factors such as rip3 further compounds the cell deaths in ifv infected epithelium . the massive cell death induced may result in worsening of the acute exacerbation due to the release of their cellular content into the airway, further evoking an inflammatory response in the airway (guibas et al., 2018) . moreover, the destruction of the epithelial barrier may cause further contact with other pathogens and allergens in the airway which may then prolong exacerbations or results in new exacerbations. epithelial destruction may also promote further epithelial remodeling during its regeneration as viral infection induces the expression of remodeling genes such as mmps and growth factors . infections that cause massive destruction of the epithelium, such as ifv, usually result in severe acute exacerbations with non-classical symptoms of chronic airway inflammatory diseases. fortunately, annual vaccines are available to prevent ifv infections (vasileiou et al., 2017; zheng et al., 2018) ; and it is recommended that patients with chronic airway inflammatory disease receive their annual influenza vaccination as the best means to prevent severe ifv induced exacerbation.\\n\\nanother mechanism that viral infections may use to drive acute exacerbations is the induction of vasodilation or tight junction opening factors which may increase the rate of infiltration. infection with a multitude of respiratory viruses causes disruption of tight junctions with the resulting increased rate of viral infiltration. this also increases the chances of allergens coming into contact with airway immune cells. for example, ifv infection was found to induce oncostatin m (osm) which causes tight junction opening (pothoven et al., 2015; tian et al., 2018) . similarly, rv and rsv infections usually cause tight junction opening which may also increase the infiltration rate of eosinophils and thus worsening of the classical symptoms of chronic airway inflammatory diseases (sajjan et al., 2008; kast et al., 2017; kim et al., 2018) . in addition, the expression of vasodilating factors and fluid homeostatic factors such as angiopoietin-like 4 (angptl4) and bactericidal/permeabilityincreasing fold-containing family member a1 (bpifa1) are also associated with viral infections and pneumonia development, which may worsen inflammation in the lower airway akram et al., 2018) . these factors may serve as targets to prevent viral-induced exacerbations during the management of acute exacerbation of chronic airway inflammatory diseases.\\n\\nanother recent area of interest is the relationship between asthma and copd exacerbations and their association with the airway microbiome. the development of chronic airway inflammatory diseases is usually linked to specific bacterial species in the microbiome which may thrive in the inflamed airway environment (diver et al., 2019) . in the event of a viral infection such as rv infection, the effect induced by the virus may destabilize the equilibrium of the microbiome present (molyneaux et al., 2013; kloepfer et al., 2014; kloepfer et al., 2017; jubinville et al., 2018; van rijn et al., 2019) . in addition, viral infection may disrupt biofilm colonies in the upper airway (e.g., streptococcus pneumoniae) microbiome to be release into the lower airway and worsening the inflammation (marks et al., 2013; chao et al., 2014) . moreover, a viral infection may also alter the nutrient profile in the airway through release of previously inaccessible nutrients that will alter bacterial growth (siegel et al., 2014; mallia et al., 2018) . furthermore, the destabilization is further compounded by impaired bacterial immune response, either from direct viral influences, or use of corticosteroids to suppress the exacerbation symptoms (singanayagam et al., 2018 (singanayagam et al., , 2019a wang et al., 2018; finney et al., 2019) . all these may gradually lead to more far reaching effect when normal flora is replaced with opportunistic pathogens, altering the inflammatory profiles (teo et al., 2018) . these changes may in turn result in more severe and frequent acute exacerbations due to the interplay between virus and pathogenic bacteria in exacerbating chronic airway inflammatory diseases (wark et al., 2013; singanayagam et al., 2018) . to counteract these effects, microbiome-based therapies are in their infancy but have shown efficacy in the treatments of irritable bowel syndrome by restoring the intestinal microbiome (bakken et al., 2011) . further research can be done similarly for the airway microbiome to be able to restore the microbiome following disruption by a viral infection.\\n\\nviral infections can cause the disruption of mucociliary function, an important component of the epithelial barrier. ciliary proteins figure 2 | changes in the upper airway epithelium contributing to viral exacerbation in chronic airway inflammatory diseases. the upper airway epithelium is the primary contact/infection site of most respiratory viruses. therefore, its infection by respiratory viruses may have far reaching consequences in augmenting and synergizing current and future acute exacerbations. the destruction of epithelial barrier, mucociliary function and cell death of the epithelial cells serves to increase contact between environmental triggers with the lower airway and resident immune cells. the opening of tight junction increasing the leakiness further augments the inflammation and exacerbations. in addition, viral infections are usually accompanied with oxidative stress which will further increase the local inflammation in the airway. the dysregulation of inflammation can be further compounded by modulation of mirnas and epigenetic modification such as dna methylation and histone modifications that promote dysregulation in inflammation. finally, the change in the local airway environment and inflammation promotes growth of pathogenic bacteria that may replace the airway microbiome. furthermore, the inflammatory environment may also disperse upper airway commensals into the lower airway, further causing inflammation and alteration of the lower airway environment, resulting in prolong exacerbation episodes following viral infection. \\n\\nviral specific trait contributing to exacerbation mechanism (with literature evidence) oxidative stress ros production (rv, rsv, ifv, hsv)\\n\\nas rv, rsv, and ifv were the most frequently studied viruses in chronic airway inflammatory diseases, most of the viruses listed are predominantly these viruses. however, the mechanisms stated here may also be applicable to other viruses but may not be listed as they were not implicated in the context of chronic airway inflammatory diseases exacerbation (see text for abbreviations).\\n\\nthat aid in the proper function of the motile cilia in the airways are aberrantly expressed in ciliated airway epithelial cells which are the major target for rv infection (griggs et al., 2017) . such form of secondary cilia dyskinesia appears to be present with chronic inflammations in the airway, but the exact mechanisms are still unknown (peng et al., , 2019 qiu et al., 2018) . nevertheless, it was found that in viral infection such as ifv, there can be a change in the metabolism of the cells as well as alteration in the ciliary gene expression, mostly in the form of down-regulation of the genes such as dynein axonemal heavy chain 5 (dnah5) and multiciliate differentiation and dna synthesis associated cell cycle protein (mcidas) (tan et al., 2018b . the recently emerged wuhan cov was also found to reduce ciliary beating in infected airway epithelial cell model (zhu et al., 2020) . furthermore, viral infections such as rsv was shown to directly destroy the cilia of the ciliated cells and almost all respiratory viruses infect the ciliated cells (jumat et al., 2015; yan et al., 2016; tan et al., 2018a) . in addition, mucus overproduction may also disrupt the equilibrium of the mucociliary function following viral infection, resulting in symptoms of acute exacerbation (zhu et al., 2009) . hence, the disruption of the ciliary movement during viral infection may cause more foreign material and allergen to enter the airway, aggravating the symptoms of acute exacerbation and making it more difficult to manage. the mechanism of the occurrence of secondary cilia dyskinesia can also therefore be explored as a means to limit the effects of viral induced acute exacerbation.\\n\\nmicrornas (mirnas) are short non-coding rnas involved in post-transcriptional modulation of biological processes, and implicated in a number of diseases (tan et al., 2014) . mirnas are found to be induced by viral infections and may play a role in the modulation of antiviral responses and inflammation (gutierrez et al., 2016; deng et al., 2017; feng et al., 2018) . in the case of chronic airway inflammatory diseases, circulating mirna changes were found to be linked to exacerbation of the diseases (wardzynska et al., 2020) . therefore, it is likely that such mirna changes originated from the infected epithelium and responding immune cells, which may serve to further dysregulate airway inflammation leading to exacerbations. both ifv and rsv infections has been shown to increase mir-21 and augmented inflammation in experimental murine asthma models, which is reversed with a combination treatment of anti-mir-21 and corticosteroids (kim et al., 2017) . ifv infection is also shown to increase mir-125a and b, and mir-132 in copd epithelium which inhibits a20 and mavs; and p300 and irf3, respectively, resulting in increased susceptibility to viral infections (hsu et al., 2016 (hsu et al., , 2017 . conversely, mir-22 was shown to be suppressed in asthmatic epithelium in ifv infection which lead to aberrant epithelial response, contributing to exacerbations (moheimani et al., 2018) . other than these direct evidence of mirna changes in contributing to exacerbations, an increased number of mirnas and other non-coding rnas responsible for immune modulation are found to be altered following viral infections (globinska et al., 2014; feng et al., 2018; hasegawa et al., 2018) . hence non-coding rnas also presents as targets to modulate viral induced airway changes as a means of managing exacerbation of chronic airway inflammatory diseases. other than mirna modulation, other epigenetic modification such as dna methylation may also play a role in exacerbation of chronic airway inflammatory diseases. recent epigenetic studies have indicated the association of epigenetic modification and chronic airway inflammatory diseases, and that the nasal methylome was shown to be a sensitive marker for airway inflammatory changes (cardenas et al., 2019; gomez, 2019) . at the same time, it was also shown that viral infections such as rv and rsv alters dna methylation and histone modifications in the airway epithelium which may alter inflammatory responses, driving chronic airway inflammatory diseases and exacerbations (mcerlean et al., 2014; pech et al., 2018; caixia et al., 2019) . in addition, spalluto et al. (2017) also showed that antiviral factors such as ifn\\u03b3 epigenetically modifies the viral resistance of epithelial cells. hence, this may indicate that infections such as rv and rsv that weakly induce antiviral responses may result in an altered inflammatory state contributing to further viral persistence and exacerbation of chronic airway inflammatory diseases (spalluto et al., 2017) .\\n\\nfinally, viral infection can result in enhanced production of reactive oxygen species (ros), oxidative stress and mitochondrial dysfunction in the airway epithelium (kim et al., 2018; mishra et al., 2018; wang et al., 2018) . the airway epithelium of patients with chronic airway inflammatory diseases are usually under a state of constant oxidative stress which sustains the inflammation in the airway (barnes, 2017; van der vliet et al., 2018) . viral infections of the respiratory epithelium by viruses such as ifv, rv, rsv and hsv may trigger the further production of ros as an antiviral mechanism aizawa et al., 2018; wang et al., 2018) . moreover, infiltrating cells in response to the infection such as neutrophils will also trigger respiratory burst as a means of increasing the ros in the infected region. the increased ros and oxidative stress in the local environment may serve as a trigger to promote inflammation thereby aggravating the inflammation in the airway (tiwari et al., 2002) . a summary of potential exacerbation mechanisms and the associated viruses is shown in figure 2 and table 1 .\\n\\nwhile the mechanisms underlying the development and acute exacerbation of chronic airway inflammatory disease is extensively studied for ways to manage and control the disease, a viral infection does more than just causing an acute exacerbation in these patients. a viral-induced acute exacerbation not only induced and worsens the symptoms of the disease, but also may alter the management of the disease or confer resistance toward treatments that worked before. hence, appreciation of the mechanisms of viral-induced acute exacerbations is of clinical significance to devise strategies to correct viral induce changes that may worsen chronic airway inflammatory disease symptoms. further studies in natural exacerbations and in viral-challenge models using rna-sequencing (rna-seq) or single cell rna-seq on a range of time-points may provide important information regarding viral pathogenesis and changes induced within the airway of chronic airway inflammatory disease patients to identify novel targets and pathway for improved management of the disease. subsequent analysis of functions may use epithelial cell models such as the air-liquid interface, in vitro airway epithelial model that has been adapted to studying viral infection and the changes it induced in the airway (yan et al., 2016; boda et al., 2018; tan et al., 2018a) . animal-based diseased models have also been developed to identify systemic mechanisms of acute exacerbation (shin, 2016; gubernatorova et al., 2019; tanner and single, 2019) . furthermore, the humanized mouse model that possess human immune cells may also serves to unravel the immune profile of a viral infection in healthy and diseased condition (ito et al., 2019; li and di santo, 2019) . for milder viruses, controlled in vivo human infections can be performed for the best mode of verification of the associations of the virus with the proposed mechanism of viral induced acute exacerbations . with the advent of suitable diseased models, the verification of the mechanisms will then provide the necessary continuation of improving the management of viral induced acute exacerbations.\\n\\nin conclusion, viral-induced acute exacerbation of chronic airway inflammatory disease is a significant health and economic burden that needs to be addressed urgently. in view of the scarcity of antiviral-based preventative measures available for only a few viruses and vaccines that are only available for ifv infections, more alternative measures should be explored to improve the management of the disease. alternative measures targeting novel viral-induced acute exacerbation mechanisms, especially in the upper airway, can serve as supplementary treatments of the currently available management strategies to augment their efficacy. new models including primary human bronchial or nasal epithelial cell cultures, organoids or precision cut lung slices from patients with airways disease rather than healthy subjects can be utilized to define exacerbation mechanisms. these mechanisms can then be validated in small clinical trials in patients with asthma or copd. having multiple means of treatment may also reduce the problems that arise from resistance development toward a specific treatment.\",\n          \"potential rapid diagnostics, vaccine and therapeutics for 2019 novel coronavirus (2019-ncov): a systematic review\\n\\nhttps://doi.org/10.3390/jcm9030623\\n\\nsha: 9b0c87f808b1b66f2937d7a7acb524a756b6113b\\n\\nauthors: pang, junxiong; wang, min xian; ang, ian yi han; tan, sharon hui xuan; lewis, ruth frances; chen, jacinta i. pei; gutierrez, ramona a.; gwee, sylvia xiao wei; chua, pearleen ee yong; yang, qian; ng, xian yi; yap, rowena k. s.; tan, hao yi; teo, yik ying; tan, chorh chuan; cook, alex r.; yap, jason chin-huat; hsu, li yang\\ndate: 2020\\ndoi: 10.3390/jcm9030623\\nlicense: cc-by\\n\\nabstract: rapid diagnostics, vaccines and therapeutics are important interventions for the management of the 2019 novel coronavirus (2019-ncov) outbreak. it is timely to systematically review the potential of these interventions, including those for middle east respiratory syndrome-coronavirus (mers-cov) and severe acute respiratory syndrome (sars)-cov, to guide policymakers globally on their prioritization of resources for research and development. a systematic search was carried out in three major electronic databases (pubmed, embase and cochrane library) to identify published studies in accordance with the preferred reporting items for systematic reviews and meta-analyses (prisma) guidelines. supplementary strategies through google search and personal communications were used. a total of 27 studies fulfilled the criteria for review. several laboratory protocols for confirmation of suspected 2019-ncov cases using real-time reverse transcription polymerase chain reaction (rt-pcr) have been published. a commercial rt-pcr kit developed by the beijing genomic institute is currently widely used in china and likely in asia. however, serological assays as well as point-of-care testing kits have not been developed but are likely in the near future. several vaccine candidates are in the pipeline. the likely earliest phase 1 vaccine trial is a synthetic dna-based candidate. a number of novel compounds as well as therapeutics licensed for other conditions appear to have in vitro efficacy against the 2019-ncov. some are being tested in clinical trials against mers-cov and sars-cov, while others have been listed for clinical trials against 2019-ncov. however, there are currently no effective specific antivirals or drug combinations supported by high-level evidence.\\n\\ntext: since mid-december 2019 and as of early february 2020, the 2019 novel coronavirus (2019-ncov) originating from wuhan (hubei province, china) has infected over 25,000 laboratory-confirmed cases across 28 countries with about 500 deaths (a case-fatality rate of about 2%). more than 90% of the cases and deaths were in china [1] . based on the initial reported surge of cases in wuhan, the majority were males with a median age of 55 years and linked to the huanan seafood wholesale market [2] . most of the reported cases had similar symptoms at the onset of illness such as fever, cough, and myalgia or fatigue. most cases developed pneumonia and some severe and even fatal respiratory diseases such as acute respiratory distress syndrome [3] .\\n\\nthe 2019 novel coronavirus (2019-ncov), a betacoronavirus, forms a clade within the subgenus sarbecovirus of the orthocoronavirinae subfamily [4] . the severe acute respiratory syndrome coronavirus (sars-cov) and middle east respiratory syndrome coronavirus (mers-cov) are also betacoronaviruses that are zoonotic in origin and have been linked to potential fatal illness during the outbreaks in 2003 and 2012, respectively [5, 6] . based on current evidence, pathogenicity for 2019-ncov is about 3%, which is significantly lower than sars-cov (10%) and mers-cov (40%) [7] . however, 2019-ncov has potentially higher transmissibility (r0: 1.4-5.5) than both sars-cov (r0: [2] [3] [4] [5] and mers-cov (r0: <1) [7] .\\n\\nwith the possible expansion of 2019-ncov globally [8] and the declaration of the 2019-ncov outbreak as a public health emergency of international concern by the world health organization, there is an urgent need for rapid diagnostics, vaccines and therapeutics to detect, prevent and contain 2019-ncov promptly. there is however currently a lack of understanding of what is available in the early phase of 2019-ncov outbreak. the systematic review describes and assesses the potential rapid diagnostics, vaccines and therapeutics for 2019-ncov, based in part on the developments for mers-cov and sars-cov.\\n\\na systematic search was carried out in three major electronic databases (pubmed, embase and cochrane library) to identify published studies examining the diagnosis, therapeutic drugs and vaccines for severe acute respiratory syndrome (sars), middle east respiratory syndrome (mers) and the 2019 novel coronavirus (2019-ncov), in accordance with the preferred reporting items for systematic reviews and meta-analyses (prisma) guidelines.\\n\\nthere were two independent reviewers each focusing on sars, mers, and 2019-ncov, respectively. a third independent reviewer was engaged to resolve any conflicting article of interest. we used the key words \\\"sars\\\", \\\"coronavirus\\\", \\\"mers\\\", \\\"2019 novel coronavirus\\\", \\\"wuhan virus\\\" to identify the diseases in the search strategy. the systematic searches for diagnosis, therapeutic drugs and vaccines were carried out independently and the key words \\\"drug\\\", \\\"therapy\\\", \\\"vaccine\\\", \\\"diagnosis\\\", \\\"point of care testing\\\" and \\\"rapid diagnostic test\\\" were used in conjunction with the disease key words for the respective searches.\\n\\nexamples of search strings can be found in table s1 . we searched for randomized controlled trials (rcts) and validation trials (for diagnostics test) published in english, that measured (a) the sensitivity and/or specificity of a rapid diagnostic test or a point-of-care testing kit, (b) the impact of drug therapy or (c) vaccine efficacy against either of these diseases with no date restriction applied. for the 2019-ncov, we searched for all in vitro, animal, or human studies published in english between 1 december 2019 and 6 february 2020, on the same outcomes of interest. in addition, we reviewed the references of retrieved articles in order to identify additional studies or reports not retrieved by the initial searches. studies that examined the mechanisms of diagnostic tests, drug therapy or vaccine efficacy against sars, mers and 2019-ncov were excluded. a google search for 2019-ncov diagnostics (as of 6 february 2020; table s2 ) yielded five webpage links from government and international bodies with official information and guidelines (who, europe cdc, us cdc, us fda), three webpage links on diagnostic protocols and scientific commentaries, and five webpage links on market news and press releases. six protocols for diagnostics using reverse transcriptase polymerase chain reaction (rt-pcr) from six countries were published on who's website [9] . google search for 2019-ncov vaccines yielded 19 relevant articles.\\n\\nwith the emergence of 2019-ncov, real time rt-pcr remains the primary means for diagnosing the new virus strain among the many diagnostic platforms available ( [10] [11] [12] [13] [14] [15] [16] [17] [18] [19] ; table s3 ). among the 16 diagnostics studies selected, one study discussed the use of rt-pcr in diagnosing patients with 2019-ncov [11] ( table 1 ). the period and type of specimen collected for rt-pcr play an important role in the diagnosis of 2019-ncov. it was found that the respiratory specimens were positive for the virus while serum was negative in the early period. it has also suggested that in the early days of illness, patients have high levels of virus despite the mild symptoms.\\n\\napart from the commonly used rt-pcr in diagnosing mers-cov, four studies identified various diagnostic methods such as reverse transcription loop-mediated isothermal amplification (rt-lamp), rt-insulated isothermal pcr (rt-iipcr) and a one-step rrt-pcr assay based on specific taqman probes. rt-lamp has similar sensitivity as real time rt-pcr. it is also highly specific and is used to detect mers-cov. it is comparable to the usual diagnostic tests and is rapid, simple and convenient. likewise, rt-iipcr and a one-step rrt-pcr assay have also shown similar sensitivity and high specificity for mer-cov. lastly, one study focused on the validation of the six commercial real rt-pcr kits, with high accuracy. although real time rt-pcr is a primary method for diagnosing mers-cov, high levels of pcr inhibition may hinder pcr sensitivity (table 1) .\\n\\nthere are eleven studies that focus on sars-cov diagnostic testing (table 1) . these papers described diagnostic methods to detect the virus with the majority of them using molecular testing for diagnosis. comparison between the molecular test (i.e rt-pcr) and serological test (i.e., elisa) showed that the molecular test has better sensitivity and specificity. hence, enhancements to the current molecular test were conducted to improve the diagnosis. studies looked at using nested pcr to include a pre-amplification step or incorporating n gene as an additional sensitive molecular marker to improve on the sensitivity (table 1 ).\\n\\nin addition, there are seven potential rapid diagnostic kits (as of 24 january 2020; table 2 ) available on the market for 2019-ncov. six of these are only for research purposes. only one kit from beijing genome institute (bgi) is approved for use in the clinical setting for rapid diagnosis. most of the kits are for rt-pcr. there were two kits (bgi, china and veredus, singapore) with the capability to detect multiple pathogens using sequencing and microarray technologies, respectively. the limit of detection of the enhanced realtime pcr method was 10 2 -fold higher than the standard real-time pcr assay and 10 7fold higher than conventional pcr methods in the clinical aspect, the enhanced realtime pcr method was able to detect 6 cases of sars-cov positive samples that were not confirmed by any other assay [25] \\u2022 the real time pcr has a threshold sensitivity of 10 genome equivalents per reaction and it has a good reproducibility with the inter-assay coefficients of variation of 1.73 to 2.72%. \\u2022 13 specimens from 6 patients were positive with viral load range from 362 to 36,240,000 genome equivalents/ml. the real-time rt-pcr reaction was more sensitive than the nested pcr reaction, as the detection limit for the nested pcr reaction was about 10 3 genome equivalents in the standard cdna control. [34] real-time reverse-transcription pcr (rrt-pcr); rna-dependent rna polymerase (rdrp); open reading frame 1a (orf1a); loop-mediated isothermal amplification (lamp); enzyme-linked immunosorbent assay (elisa); immunofluorescent assay (ifa); immunochromatographic test (ict); nasopharyngeal aspirate (npa). \\n\\nwith the emergence of 2019-ncov, there are about 15 potential vaccine candidates in the pipeline globally (table 3 ), in which a wide range of technology (such as messenger rna, dna-based, nanoparticle, synthetic and modified virus-like particle) was applied. it will likely take about a year for most candidates to start phase 1 clinical trials except for those funded by coalition for epidemic preparedness innovations (cepi). however, the kit developed by the bgi have passed emergency approval procedure of the national medical products administration, and are currently used in clinical and surveillance centers of china [40] .\\n\\nof the total of 570 unique studies on 2019-ncov, sars cov or mers-cov vaccines screened, only four were eventually included in the review. most studies on sars and mers vaccines were excluded as they were performed in cell or animal models ( figure 1 ). the four studies included in this review were phase i clinical trials on sars or mers vaccines (table 4 ) [44] [45] [46] [47] . there were no studies of any population type (cell, animal, human) on the 2019-ncov at the point of screening. the published clinical trials were mostly done in united states except for one on the sars vaccine done in china [44] . all vaccine candidates for sars and mers were reported to be safe, well-tolerated and able to trigger the relevant and appropriate immune responses in the participants. in addition, we highlight six ongoing phase i clinical trials identified in the clinicaltrials.gov register ( [48, 49] ); table  s4 ) [50] [51] [52] . these trials are all testing the safety and immunogenicity of their respective mers-cov vaccine candidates but were excluded as there are no results published yet. the trials are projected to complete in december 2020 (two studies in russia [50, 51] ) and december 2021 (in germany [52] ).\\n\\nexisting literature search did not return any results on completed 2019-ncov trials at the time of writing. among 23 trials found from the systematic review (table 5) , there are nine clinical trials registered under the clinical trials registry (clinicaltrials.gov) for 2019-ncov therapeutics [53] [54] [55] [56] [57] [58] [59] [60] [61] . of which five studies on hydroxychloroquine, lopinavir plus ritonavir and arbidol, mesenchymal stem cells, traditional chinese medicine and glucocorticoid therapy usage have commenced recruitment. the remaining four studies encompass investigation of antivirals, interferon atomization, darunavir and cobicistat, arbidol, and remdesivir usage for 2019-ncov patients (table 5) . seroconversion measured by s1-elisa occurred in 86% and 94% participants after 2 and 3 doses, respectively, and was maintained in 79% participants up to study end at week 60. neutralising antibodies were detected in 50% participants at one or more time points during the study, but only 3% maintained neutralisation activity to end of study. t-cell responses were detected in 71% and 76% participants after 2 and 3 doses, respectively. there were no differences in immune responses between dose groups after 6 weeks and vaccine-induced humoral and cellular responses were respectively detected in 77% and 64% participants at week 60.\\n\\n[47] molecules developed by the university scientists inhibit two coronavirus enzymes and prevent its replication. the discovered drug targets are said to be more than 95% similar to enzyme targets found on the sars virus. researchers note that identified drugs may not be available to address the ongoing outbreak but they hope to make it accessible for future outbreaks.\\n\\n[85] besides the six completed randomized controlled trials (rct) selected from the systematic review (table 6) , there is only one ongoing randomized controlled trial targeted at sars therapeutics [92] . the studies found from clinicaltrials.gov have not been updated since 2013. while many prospective and retrospective cohort studies conducted during the epidemic centered on usage of ribavirin with lopinavir/ritonavir or ribavirin only, there has yet to be well-designed clinical trials investigating their usage. three completed randomized controlled trials were conducted during the sars epidemic-3 in china, 1 in taiwan and 2 in hong kong [93] [94] [95] [96] [97] . the studies respectively investigated antibiotic usage involving 190 participants, combination of western and chinese treatment vs. chinese treatment in 123 participants, integrative chinese and western treatment in 49 patients, usage of a specific chinese medicine in four participants and early use of corticosteroid in 16 participants. another notable study was an open non-randomized study investigating ribavirin/lopinavir/ritonavir usage in 152 participants [98] . one randomized controlled trial investigating integrative western and chinese treatment during the sars epidemic was excluded as it was a chinese article [94] .\\n\\nthere is only one ongoing randomized controlled trial targeted at mers therapeutics [99] . it investigates the usage of lopinavir/ritonavir and interferon beta 1b. likewise, many prospective and retrospective cohort studies conducted during the epidemic centered on usage of ribavirin with lopinavir/ritonavir/ribavirin, interferon, and convalescent plasma usage. to date, only one trial has been completed. one phase 1 clinical trial investigating the safety and tolerability of a fully human polyclonal igg immunoglobulin (sab-301) was found in available literature [46] . the trial conducted in the united states in 2017 demonstrated sab-301 to be safe and well-tolerated at single doses. another trial on mers therapeutics was found on clinicaltrials.gov-a phase 2/3 trial in the united states evaluating the safety, tolerability, pharmacokinetics (pk), and immunogenicity on coadministered mers-cov antibodies regn3048 & regn3051 [100].\\n\\nrapid diagnostics plays an important role in disease and outbreak management. the fast and accurate diagnosis of a specific viral infection enables prompt and accurate public health surveillance, prevention and control measures. local transmission and clusters can be prevented or delayed by isolation of laboratory-confirmed cases and their close contacts quarantined and monitored at home. rapid diagnostic also facilitates other specific public health interventions such as closure of high-risk facilities and areas associated with the confirmed cases for prompt infection control and environmental decontamination [11, 101] .\\n\\nlaboratory diagnosis can be performed by: (a) detecting the genetic material of the virus, (b) detecting the antibodies that neutralize the viral particles of interest, (c) detecting the viral epitopes of interest with antibodies (serological testing), or (d) culture and isolation of viable virus particles.\\n\\nthe key limitations of genetic material detection are the lack of knowledge of the presence of viable virus, the potential cross-reactivity with non-specific genetic regions and the short timeframe for accurate detection during the acute infection phase. the key limitations of serological testing is the need to collect paired serum samples (in the acute and convalescent phases) from cases under investigation for confirmation to eliminate potential cross-reactivity from non-specific antibodies from past exposure and/or infection by other coronaviruses. the limitation of virus culture and isolation is the long duration and the highly specialized skills required of the technicians to process the samples. all patients recovered.\\n\\nsignificantly shorted time from the disease onset to the symptom improvement in treatment (5.10 \\u00b1 2.83 days) compared to control group (7.62 \\u00b1 2.27 days) (p < 0.05) no significant difference in blood routine improvement, pulmonary chest shadow in chest film improvement and corticosteroid usgae between the 2 groups. however, particularly in the respect of improving clinical symptoms, elevating quality of life, promoting immune function recovery, promoting absorption of pulmonary inflammation, reducing the dosage of cortisteroid and shortening the therapeutic course, treatment with integrative chinese and western medicine treatment had obvious superiority compared with using control treatment alone. single infusions of sab-301 up to 50 mg/kg appear to be safe and well-tolerated in healthy participants. [46] where the biological samples are taken from also play a role in the sensitivity of these tests. for sars-cov and mers-cov, specimens collected from the lower respiratory tract such as sputum and tracheal aspirates have higher and more prolonged levels of viral rna because of the tropism of the virus. mers-cov viral loads are also higher for severe cases and have longer viral shedding compared to mild cases. although upper respiratory tract specimens such as nasopharyngeal or oropharyngeal swabs can be used, they have potentially lower viral loads and may have higher risk of false-negatives among the mild mers and sars cases [102, 103] , and likely among the 2019-ncov cases.\\n\\nthe existing practices in detecting genetic material of coronaviruses such as sars-cov and mers-cov include (a) reverse transcription-polymerase chain reaction (rt-pcr), (b) real-time rt-pcr (rrt-pcr), (c) reverse transcription loop-mediated isothermal amplification (rt-lamp) and (d) real-time rt-lamp [104] . nucleic amplification tests (naat) are usually preferred as in the case of mers-cov diagnosis as it has the highest sensitivity at the earliest time point in the acute phase of infection [102] . chinese health authorities have recently posted the full genome of 2019-ncov in the genbank and in gisaid portal to facilitate in the detection of the virus [11] . several laboratory assays have been developed to detect the novel coronavirus in wuhan, as highlighted in who's interim guidance on ncov laboratory testing of suspected cases. these include protocols from other countries such as thailand, japan and china [105] .\\n\\nthe first validated diagnostic test was designed in germany. corman et al. had initially designed a candidate diagnostic rt-pcr assay based on the sars or sars-related coronavirus as it was suggested that circulating virus was sars-like. upon the release of the sequence, assays were selected based on the match against 2019-ncov upon inspection of the sequence alignment. two assays were used for the rna dependent rna polymerase (rdrp) gene and e gene where e gene assay acts as the first-line screening tool and rdrp gene assay as the confirmatory testing. all assays were highly sensitive and specific in that they did not cross-react with other coronavirus and also human clinical samples that contained respiratory viruses [11] .\\n\\nthe hong kong university used two monoplex assays which were reactive with coronaviruses under the subgenus sarbecovirus (consisting of 2019-ncov, sars-cov and sars-like coronavirus). viral rna extracted from sars-cov can be used as the positive control for the suggested protocol assuming that sars has been eradicated. it is proposed that the n gene rt-pcr can be used as a screening assay while the orf1b assay acts as a confirmatory test. however, this protocol has only been evaluated with a panel of controls with the only positive control sars-cov rna. synthetic oligonucleotide positive control or 2019-ncov have yet to be tested [106] .\\n\\nthe us cdc shared the protocol on the real time rt-pcr assay for the detection of the 2019-ncov with the primers and probes designed for the universal detection of sars-like coronavirus and the specific detection of 2019-ncov. however, the protocol has not been validated on other platforms or chemistries apart from the protocol described. there are some limitations for the assay. analysts engaged have to be trained and familiar with the testing procedure and result interpretation. false negative results may occur due to insufficient organisms in the specimen resulting from improper collection, transportation or handling. also, rna viruses may show substantial genetic variability. this could result in mismatch between the primer and probes with the target sequence which can diminish the assay performance or result in false negative results [107] . point-of-care test kit can potentially minimize these limitations, which should be highly prioritized for research and development in the next few months.\\n\\nserological testing such as elisa, iift and neutralization tests are effective in determining the extent of infection, including estimating asymptomatic and attack rate. compared to the detection of viral genome through molecular methods, serological testing detects antibodies and antigens. there would be a lag period as antibodies specifically targeting the virus would normally appear between 14 and 28 days after the illness onset [108] . furthermore, studies suggest that low antibody titers in the second week or delayed antibody production could be associated with mortality with a high viral load. hence, serological diagnoses are likely used when nucleic amplification tests (naat) are not available or accessible [102] .\\n\\nvaccines can prevent and protect against infection and disease occurrence when exposed to the specific pathogen of interest, especially in vulnerable populations who are more prone to severe outcomes. in the context of the current 2019-ncov outbreak, vaccines will help control and reduce disease transmission by creating herd immunity in addition to protecting healthy individuals from infection. this decreases the effective r0 value of the disease. nonetheless, there are social, clinical and economic hurdles for vaccine and vaccination programmes, including (a) the willingness of the public to undergo vaccination with a novel vaccine, (b) the side effects and severe adverse reactions of vaccination, (c) the potential difference and/or low efficacy of the vaccine in populations different from the clinical trials' populations and (d) the accessibility of the vaccines to a given population (including the cost and availability of the vaccine).\\n\\nvaccines against the 2019-ncov are currently in development and none are in testing (at the time of writing). on 23 january 2020, the coalition for epidemic preparedness innovations (cepi) announced that they will fund vaccine development programmes with inovio, the university of queensland and moderna, inc respectively, with the aim to test the experimental vaccines clinically in 16 weeks (by june 2020). the vaccine candidates will be developed by the dna, recombinant and mrna vaccine platforms from these organizations [109] .\\n\\nbased on the most recent mers-cov outbreak, there are already a number of vaccine candidates being developed but most are still in the preclinical testing stage. the vaccines in development include viral vector-based vaccine, dna vaccine, subunit vaccine, virus-like particles (vlps)-based vaccine, inactivated whole-virus (iwv) vaccine and live attenuated vaccine. the latest findings for these vaccines arebased on the review by yong et al. (2019) in august 2019 [110] . as of the date of reporting, there is only one published clinical study on the mers-cov vaccine by geneone life science & inovio pharmaceuticals [47] . there was one sars vaccine trial conducted by the us national institute of allergy and infectious diseases. both phase i clinical trials reported positive results, but only one has announced plans to proceed to phase 2 trial [111] .\\n\\ndue to the close genetic relatedness of sars-cov (79%) with 2019-ncov [112] , there may be potential cross-protective effect of using a safe sars-cov vaccine while awaiting the 2019-ncov vaccine. however, this would require small scale phase-by-phase implementation and close monitoring of vaccinees before any large scale implementation.\\n\\napart from the timely diagnosis of cases, the achievement of favorable clinical outcomes depends on the timely treatment administered. ace2 has been reported to be the same cell entry receptor used by 2019-ncov to infect humans as sars-cov [113] . hence, clinical similarity between the two viruses is expected, particularly in severe cases. in addition, most of those who have died from mers-cov, sars-cov and 2019-ncov were advance in age and had underlying health conditions such as hypertension, diabetes or cardiovascular disease that compromised their immune systems [114] . coronaviruses have error-prone rna-dependent rna polymerases (rdrp), which result in frequent mutations and recombination events. this results in quasispecies diversity that is closely associated with adaptive evolution and the capacity to enhance viral-cell entry to cause disease over time in a specific population at-risk [115] . since ace2 is abundantly present in humans in the epithelia of the lung and small intestine, coronaviruses are likely to infect the upper respiratory and gastrointestinal tract and this may influence the type of therapeutics against 2019-ncov, similarly to sar-cov.\\n\\nhowever, in the years following two major coronavirus outbreaks sars-cov in 2003 and mers-cov in 2012, there remains no consensus on the optimal therapy for either disease [116, 117] . well-designed clinical trials that provide the gold standard for assessing the therapeutic measures are scarce. no coronavirus protease inhibitors have successfully completed a preclinical development program despite large efforts exploring sars-cov inhibitors. the bulk of potential therapeutic strategies remain in the experimental phase, with only a handful crossing the in vitro hurdle. stronger efforts are required in the research for treatment options for major coronaviruses given their pandemic potential. effective treatment options are essential to maximize the restoration of affected populations to good health following infections. clinical trials have commenced in china to identify effective treatments for 2019-ncov based on the treatment evidence from sars and mers. there is currently no effective specific antiviral with high-level evidence; any specific antiviral therapy should be provided in the context of a clinical study/trial. few treatments have shown real curative action against sars and mers and the literature generally describes isolated cases or small case series.\\n\\nmany interferons from the three classes have been tested for their antiviral activities against sars-cov both in vitro and in animal models. interferon \\u03b2 has consistently been shown to be the most active, followed by interferon \\u03b1. the use of corticosteroids with interferon alfacon-1 (synthetic interferon \\u03b1) appeared to have improved oxygenation and faster resolution of chest radiograph abnormalities in observational studies with untreated controls. interferon has been used in multiple observational studies to treat sars-cov and mers-cov patients [116, 117] . interferons, with or without ribavirin, and lopinavir/ritonavir are most likely to be beneficial and are being trialed in china for 2019-ncov. this drug treatment appears to be the most advanced. timing of treatment is likely an important factor in effectiveness. a combination of ribavirin and lopinavir/ritonavir was used as a post-exposure prophylaxis in health care workers and may have reduced the risk of infection. ribavirin alone is unlikely to have substantial antiviral activities at clinically used dosages. hence, ribavirin with or without corticosteroids and with lopinavir and ritonavir are among the combinations employed. this was the most common agent reported in the available literature. its efficacy has been assessed in observational studies, retrospective case series, retrospective cohort study, a prospective observational study, a prospective cohort study and randomized controlled trial ranging from seven to 229 participants [117] . lopinavir/ritonavir (kaletra) was the earliest protease inhibitor combination introduced for the treatment of sars-cov. its efficacy was documented in several studies, causing notably lower incidence of adverse outcomes than with ribavirin alone. combined usage with ribavirin was also associated with lower incidence of acute respiratory distress syndrome, nosocomial infection and death, amongst other favorable outcomes. recent in vitro studies have shown another hiv protease inhibitor, nelfinavir, to have antiviral capacity against sars-cov, although it has yet to show favorable outcomes in animal studies [118] . remdesivir (gilead sciences, gs-5734) nucleoside analogue in vitro and in vivo data support gs-5734 development as a potential pan-coronavirus antiviral based on results against several coronaviruses (covs), including highly pathogenic covs and potentially emergent batcovs. the use of remdesivir may be a good candidate as an investigational treatment.\\n\\nimproved mortality following receipt of convalescent plasma in various doses was consistently reported in several observational studies involving cases with severe acute respiratory infections (saris) of viral etiology. a significant reduction in the pooled odds of mortality following treatment of 0.25 compared to placebo or no therapy was observed [119] . studies were however at moderate to high risk of bias given their small sample sizes, allocation of treatment based on the physician's discretion, and the availability of plasma. factors like concomitant treatment may have also confounded the results. associations between convalescent plasma and hospital length of stay, viral antibody levels, and viral load respectively were similarly inconsistent across available literature. convalescent plasma, while promising, is likely not yet feasible, given the limited pool of potential donors and issues of scalability. monoclonal antibody treatment is progressing. sars-cov enters host cells through the binding of their spike (s) protein to angiotensin converting enzyme 2 (ace2) and cd209l [118] . human monoclonal antibodies to the s protein have been shown to significantly reduce the severity of lung pathology in non-human primates following mers-cov infection [120] . such neutralizing antibodies can be elicited by active or passive immunization using vaccines or convalescent plasma respectively. while such neutralizing antibodies can theoretically be harvested from individuals immunized with vaccines, there is uncertainty over the achievement of therapeutic levels of antibodies.\\n\\nother therapeutic agents have also been reported. a known antimalarial agent, chloroquine, elicits antiviral effects against multiple viruses including hiv type 1, hepatitis b and hcov-229e. chloroquine is also immunomodulatory, capable of suppressing the production and release of factors which mediate the inflammatory complications of viral diseases (tumor necrosis factor and interleukin 6) [121] . it is postulated that chloroquine works by altering ace2 glycosylation and endosomal ph. its anti-inflammatory properties may be beneficial for the treatment of sars. niclosamide as a known drug used in antihelminthic treatment. the efficacy of niclosamide as an inhibitor of virus replication was proven in several assays. in both immunoblot analysis and immunofluorescence assays, niclosamide treatment was observed to completely inhibit viral antigen synthesis. reduction of virus yield in infected cells was dose dependent. niclosamide likely does not interfere in the early stages of virus attachment and entry into cells, nor does it function as a protease inhibitor. mechanisms of niclosamide activity warrant further investigation [122] . glycyrrhizin also reportedly inhibits virus adsorption and penetration in the early steps of virus replication. glycyrrhizin was a significantly potent inhibitor with a low selectivity index when tested against several pathogenic flaviviruses. while preliminary results suggest production of nitrous oxide (which inhibits virus replication) through induction of nitrous oxide synthase, the mechanism of glycyrrhizin against sars-cov remains unclear. the compound also has relatively lower toxicity compared to protease inhibitors like ribavirin [123] . inhibitory activity was also detected in baicalin [124] , extracted from another herb used in the treatment of sars in china and hong kong. findings on these compounds are limited to in vitro studies [121] [122] [123] [124] .\\n\\ndue to the rapidly evolving situation of the 2019-ncov, there will be potential limitations to the systematic review. the systematic review is likely to have publication bias as some developments have yet to be reported while for other developments there is no intention to report publicly (or in scientific platforms) due to confidentiality concerns. however, this may be limited to only a few developments for review as publicity does help in branding to some extent for the company and/or the funder. furthermore, due to the rapid need to share the status of these developments, there may be reporting bias in some details provided by authors of the scientific articles or commentary articles in traditional media. lastly, while it is not viable for any form of quality assessment and metaanalysis of the selected articles due to the limited data provided and the heterogeneous style of reporting by different articles, this paper has provided a comprehensive overview of the potential developments of these pharmaceutical interventions during the early phase of the outbreak. this systematic review would be useful for cross-check when the quality assessment and meta-analysis of these developments are performed as a follow-up study.\\n\\nrapid diagnostics, vaccines and therapeutics are key pharmaceutical interventions to limit transmission of respiratory infectious diseases. many potential developments on these pharmaceutical interventions for 2019-ncov are ongoing in the containment phase of this outbreak, potentially due to better pandemic preparedness than before. however, lessons from mers-cov and sars-cov have shown that the journeys for these developments can still be challenging moving ahead.\\n\\nsupplementary materials: the following are available online at www.mdpi.com/xxx/s1, table s1 : example of full search strategy in pubmed, table s2 : google search: 2019-ncov diagnostics, table s3 : summary of diagnostic assays developed for 2019-ncov, table s4\"\n        ],\n        \"semantic_type\": \"\",\n        \"description\": \"\"\n      }\n    },\n    {\n      \"column\": \"question\",\n      \"properties\": {\n        \"dtype\": \"string\",\n        \"num_unique_values\": 202,\n        \"samples\": [\n          \"what do diminished pulse pressures, tachycardia, and hypotension in andv infected hamsters appear to closely mimic?\",\n          \"what does the n-protein, as an rna-binding protein, do?\",\n          \"what other measures rapid diagnostics facilitates?\"\n        ],\n        \"semantic_type\": \"\",\n        \"description\": \"\"\n      }\n    },\n    {\n      \"column\": \"is_impossible\",\n      \"properties\": {\n        \"dtype\": \"boolean\",\n        \"num_unique_values\": 1,\n        \"samples\": [\n          false\n        ],\n        \"semantic_type\": \"\",\n        \"description\": \"\"\n      }\n    },\n    {\n      \"column\": \"id\",\n      \"properties\": {\n        \"dtype\": \"number\",\n        \"std\": 1566,\n        \"min\": 225,\n        \"max\": 5312,\n        \"num_unique_values\": 202,\n        \"samples\": [\n          4568\n        ],\n        \"semantic_type\": \"\",\n        \"description\": \"\"\n      }\n    },\n    {\n      \"column\": \"answers\",\n      \"properties\": {\n        \"dtype\": \"object\",\n        \"semantic_type\": \"\",\n        \"description\": \"\"\n      }\n    },\n    {\n      \"column\": \"answer\",\n      \"properties\": {\n        \"dtype\": \"string\",\n        \"num_unique_values\": 201,\n        \"samples\": [\n          \"the shock that is believed to be the proximate cause of demise in patients who succumb to hcps\"\n        ],\n        \"semantic_type\": \"\",\n        \"description\": \"\"\n      }\n    }\n  ]\n}"
            }
          },
          "metadata": {},
          "execution_count": 93
        }
      ],
      "source": [
        "from sklearn.model_selection import train_test_split\n",
        "\n",
        "# Split into training and validation only (e.g., 90% train, 10% validation)\n",
        "train_df, val_df = train_test_split(df, test_size=0.1, random_state=42)\n",
        "\n",
        "print(f\"Training Set Size: {len(train_df)}\")\n",
        "print(f\"Validation Set Size: {len(val_df)}\")\n",
        "train_df.head()\n",
        "val_df.head()"
      ]
    },
    {
      "cell_type": "code",
      "execution_count": null,
      "id": "4y83-RidjQTu",
      "metadata": {
        "id": "4y83-RidjQTu"
      },
      "outputs": [],
      "source": [
        "from transformers import AutoTokenizer, AutoModelForQuestionAnswering\n",
        "\n",
        "model_name = \"deepset/roberta-base-squad2\"  # Use roberta-base instead of larger models\n",
        "tokenizer = AutoTokenizer.from_pretrained(model_name)\n",
        "model = AutoModelForQuestionAnswering.from_pretrained(model_name)\n",
        "\n"
      ]
    },
    {
      "cell_type": "code",
      "execution_count": null,
      "id": "0afc197f",
      "metadata": {
        "id": "0afc197f"
      },
      "outputs": [],
      "source": [
        "def preprocess(examples):\n",
        "    inputs = tokenizer(\n",
        "        examples[\"question\"],\n",
        "        examples[\"context\"],\n",
        "        max_length=512,\n",
        "        truncation=True,\n",
        "        padding=\"max_length\",\n",
        "        return_offsets_mapping=True,  # Helps map token positions to character positions\n",
        "    )\n",
        "\n",
        "    start_positions = []\n",
        "    end_positions = []\n",
        "\n",
        "    for i, offsets in enumerate(inputs[\"offset_mapping\"]):\n",
        "        answers = examples[\"answers\"][i]\n",
        "        if len(answers[\"text\"]) > 0:\n",
        "            start_char = answers[\"answer_start\"][0]\n",
        "            end_char = start_char + len(answers[\"text\"][0])\n",
        "\n",
        "            # Find token start & end indices\n",
        "            start_token = end_token = 0\n",
        "            for idx, (start, end) in enumerate(offsets):\n",
        "                if start_char >= start and start_char < end:\n",
        "                    start_token = idx\n",
        "                if end_char > start and end_char <= end:\n",
        "                    end_token = idx\n",
        "\n",
        "            start_positions.append(start_token)\n",
        "            end_positions.append(end_token)\n",
        "        else:\n",
        "            start_positions.append(0)\n",
        "            end_positions.append(0)\n",
        "\n",
        "    inputs[\"start_positions\"] = start_positions\n",
        "    inputs[\"end_positions\"] = end_positions\n",
        "\n",
        "    # Remove offset mapping after processing\n",
        "    inputs.pop(\"offset_mapping\")\n",
        "\n",
        "    return inputs\n"
      ]
    },
    {
      "cell_type": "code",
      "source": [
        "dimension = context_embeddings.shape[1]\n",
        "faiss_index = faiss.IndexFlatL2(dimension)  # L2 distance index\n",
        "faiss_index.add(context_embeddings)  # Add embeddings to FAISS\n",
        "\n",
        "# Save index (optional)\n",
        "faiss.write_index(faiss_index, \"faiss_index.bin\")\n",
        "\n",
        "print(\"FAISS index created with\", len(context_texts), \"contexts.\")"
      ],
      "metadata": {
        "colab": {
          "base_uri": "https://localhost:8080/"
        },
        "id": "givvGklZaA37",
        "outputId": "08dc6a24-db33-4c7a-9464-1c494eedb7a0"
      },
      "id": "givvGklZaA37",
      "execution_count": null,
      "outputs": [
        {
          "output_type": "stream",
          "name": "stdout",
          "text": [
            "FAISS index created with 2019 contexts.\n"
          ]
        }
      ]
    },
    {
      "cell_type": "code",
      "source": [
        "train_data = Dataset.from_pandas(train_df)\n",
        "valid_data = Dataset.from_pandas(val_df)\n",
        "# Apply preprocessing to dataset\n",
        "train_data = train_data.map(preprocess, batched=True)\n",
        "valid_data = valid_data.map(preprocess, batched=True)"
      ],
      "metadata": {
        "colab": {
          "base_uri": "https://localhost:8080/",
          "height": 81,
          "referenced_widgets": [
            "70f2d36266114b27a1ff482581ea6b03",
            "7b48fe573263424f80719ca13558188c",
            "d625f6581bd6460caca02fd3653c9c6b",
            "951e8ab646984cbdbcfd351f3f0ea1eb",
            "a31361571da04473a7c37d22bfea4503",
            "a010dfd442754a2cb5d58762e51a7721",
            "1f017773c74748acad65912f1fabc3f1",
            "c20a84bf81d247619109402885744848",
            "9b8462a6de254501a920fe0f6a8ea832",
            "4667f6c02f344e1e80d787bd95a2643b",
            "3fa973f408fe49b78d8601057b00a1cd",
            "1371ace2e0724d37af9067a3e058e1c3",
            "5cea6196545a4462a52b00de2e5614c0",
            "feb1f25e0d194464bd0a2c5fe5da8981",
            "42fa51d5e6fe42e6a0548bec166e03f1",
            "3cc5d7c30bd242eeaeec290fea1807ce",
            "5e715c636574453f96938a40ff20dcfd",
            "48d2705abde54eefb3dff22c74c78e3f",
            "cba55a956f8440fe97b7ae3280296b7d",
            "70abeb1301f04bf3a9455ab9e328b0c9",
            "c7763cd409d5498cb136cf15031eeb65",
            "03a28c934d624b1babde02997459a2a0"
          ]
        },
        "id": "QFNYcQ9TZ_Ka",
        "outputId": "508c1cfe-c5d7-4cf7-e4e7-efc43d7c0eab"
      },
      "id": "QFNYcQ9TZ_Ka",
      "execution_count": null,
      "outputs": [
        {
          "output_type": "display_data",
          "data": {
            "text/plain": [
              "Map:   0%|          | 0/1817 [00:00<?, ? examples/s]"
            ],
            "application/vnd.jupyter.widget-view+json": {
              "version_major": 2,
              "version_minor": 0,
              "model_id": "70f2d36266114b27a1ff482581ea6b03"
            }
          },
          "metadata": {}
        },
        {
          "output_type": "display_data",
          "data": {
            "text/plain": [
              "Map:   0%|          | 0/202 [00:00<?, ? examples/s]"
            ],
            "application/vnd.jupyter.widget-view+json": {
              "version_major": 2,
              "version_minor": 0,
              "model_id": "1371ace2e0724d37af9067a3e058e1c3"
            }
          },
          "metadata": {}
        }
      ]
    },
    {
      "cell_type": "code",
      "execution_count": null,
      "id": "mzG8LSJ8njG2",
      "metadata": {
        "id": "mzG8LSJ8njG2",
        "colab": {
          "base_uri": "https://localhost:8080/",
          "height": 276
        },
        "outputId": "c9fb0298-bb37-4c65-9a78-8e7b6eb66a45"
      },
      "outputs": [
        {
          "output_type": "stream",
          "name": "stderr",
          "text": [
            "/usr/local/lib/python3.11/dist-packages/transformers/training_args.py:1575: FutureWarning: `evaluation_strategy` is deprecated and will be removed in version 4.46 of 🤗 Transformers. Use `eval_strategy` instead\n",
            "  warnings.warn(\n"
          ]
        },
        {
          "output_type": "display_data",
          "data": {
            "text/plain": [
              "<IPython.core.display.HTML object>"
            ],
            "text/html": [
              "\n",
              "    <div>\n",
              "      \n",
              "      <progress value='684' max='684' style='width:300px; height:20px; vertical-align: middle;'></progress>\n",
              "      [684/684 10:38, Epoch 3/3]\n",
              "    </div>\n",
              "    <table border=\"1\" class=\"dataframe\">\n",
              "  <thead>\n",
              " <tr style=\"text-align: left;\">\n",
              "      <th>Epoch</th>\n",
              "      <th>Training Loss</th>\n",
              "      <th>Validation Loss</th>\n",
              "    </tr>\n",
              "  </thead>\n",
              "  <tbody>\n",
              "    <tr>\n",
              "      <td>1</td>\n",
              "      <td>No log</td>\n",
              "      <td>0.667153</td>\n",
              "    </tr>\n",
              "    <tr>\n",
              "      <td>2</td>\n",
              "      <td>No log</td>\n",
              "      <td>0.712957</td>\n",
              "    </tr>\n",
              "    <tr>\n",
              "      <td>3</td>\n",
              "      <td>0.493300</td>\n",
              "      <td>0.773682</td>\n",
              "    </tr>\n",
              "  </tbody>\n",
              "</table><p>"
            ]
          },
          "metadata": {}
        },
        {
          "output_type": "execute_result",
          "data": {
            "text/plain": [
              "TrainOutput(global_step=684, training_loss=0.4163253293399922, metrics={'train_runtime': 638.7119, 'train_samples_per_second': 8.534, 'train_steps_per_second': 1.071, 'total_flos': 1424328620967936.0, 'train_loss': 0.4163253293399922, 'epoch': 3.0})"
            ]
          },
          "metadata": {},
          "execution_count": 98
        }
      ],
      "source": [
        "from transformers import TrainingArguments, Trainer\n",
        "\n",
        "# Define training arguments\n",
        "training_args = TrainingArguments(\n",
        "    output_dir=\"./qa_model\",\n",
        "    evaluation_strategy=\"epoch\",\n",
        "    learning_rate=3e-5,\n",
        "    per_device_train_batch_size=8,\n",
        "    per_device_eval_batch_size=8,\n",
        "    num_train_epochs=3,\n",
        "    weight_decay=0.01,\n",
        "    save_strategy=\"epoch\",\n",
        "    logging_dir=\"./logs\"\n",
        ")\n",
        "\n",
        "# Define Trainer\n",
        "trainer = Trainer(\n",
        "    model=model,\n",
        "    args=training_args,\n",
        "    train_dataset=train_data,\n",
        "    eval_dataset=valid_data\n",
        ")\n",
        "\n",
        "# Start training\n",
        "trainer.train()"
      ]
    },
    {
      "cell_type": "code",
      "execution_count": null,
      "id": "tBOTpSM3ndBj",
      "metadata": {
        "id": "tBOTpSM3ndBj",
        "colab": {
          "base_uri": "https://localhost:8080/"
        },
        "outputId": "e06c9577-165f-47f2-e09b-21f2989b0f8d"
      },
      "outputs": [
        {
          "output_type": "stream",
          "name": "stderr",
          "text": [
            "Device set to use cuda:0\n"
          ]
        },
        {
          "output_type": "stream",
          "name": "stdout",
          "text": [
            "Answer: 191871919\n",
            "Score: 0.008632649667561054\n"
          ]
        }
      ],
      "source": [
        "from transformers import pipeline\n",
        "\n",
        "# Load the trained model into a QA pipeline\n",
        "qa_pipeline = pipeline(\"question-answering\", model=model, tokenizer=tokenizer)\n",
        "\n",
        "def retrieve_context(question, top_k=1):\n",
        "    # Convert question to embedding\n",
        "    question_embedding = embed_model.encode([question], convert_to_numpy=True)\n",
        "\n",
        "    # Search FAISS index\n",
        "    distances, indices = faiss_index.search(question_embedding, top_k)\n",
        "\n",
        "    # Retrieve best-matching context (select top one)\n",
        "    retrieved_context = context_texts[indices[0][0]]  # Take only the best match\n",
        "\n",
        "    return retrieved_context  # Return single string\n",
        "\n",
        "# Example Question\n",
        "question = \"where the pandemic place start?\"\n",
        "context = retrieve_context(question)  # Retrieve relevant context\n",
        "\n",
        "# Get the answer\n",
        "result = qa_pipeline(question=question, context=context)\n",
        "\n",
        "# Print the result\n",
        "print(\"Answer:\", result[\"answer\"])\n",
        "print(\"Score:\", result[\"score\"])"
      ]
    },
    {
      "cell_type": "code",
      "source": [
        "# Load the QA pipeline with our trained model\n",
        "qa_pipeline = pipeline(\"question-answering\", model=model, tokenizer=tokenizer)\n",
        "\n",
        "# Provide a sample context\n",
        "context = \"\"\"Coronavirus disease (COVID-19) is an infectious disease caused by the SARS-CoV-2 virus.\n",
        "Most people infected with the virus will experience mild to moderate respiratory illness and recover without requiring special treatment.\n",
        "However, some will become seriously ill and require medical attention.\"\"\"\n",
        "\n",
        "questions = [\n",
        "    \"What causes COVID-19?\",\n",
        "    \"How does COVID-19 spread?\",\n",
        "    \"What are the symptoms of COVID-19?\"\n",
        "]\n",
        "\n",
        "for q in questions:\n",
        "    result = qa_pipeline(question=q, context=context)\n",
        "    print(f\"Q: {q} \\nA: {result['answer']} (Score: {result['score']:.4f})\\n\")\n"
      ],
      "metadata": {
        "id": "SquxsTljP2ty"
      },
      "id": "SquxsTljP2ty",
      "execution_count": null,
      "outputs": []
    },
    {
      "cell_type": "code",
      "execution_count": null,
      "id": "b85c85e5",
      "metadata": {
        "id": "b85c85e5",
        "colab": {
          "base_uri": "https://localhost:8080/"
        },
        "outputId": "f571e8a5-e308-4402-c95c-09ba7a91827b"
      },
      "outputs": [
        {
          "output_type": "stream",
          "name": "stdout",
          "text": [
            "Requirement already satisfied: faiss-cpu in /usr/local/lib/python3.11/dist-packages (1.10.0)\n",
            "Requirement already satisfied: sentence-transformers in /usr/local/lib/python3.11/dist-packages (3.4.1)\n",
            "Requirement already satisfied: numpy<3.0,>=1.25.0 in /usr/local/lib/python3.11/dist-packages (from faiss-cpu) (1.26.4)\n",
            "Requirement already satisfied: packaging in /usr/local/lib/python3.11/dist-packages (from faiss-cpu) (24.2)\n",
            "Requirement already satisfied: transformers<5.0.0,>=4.41.0 in /usr/local/lib/python3.11/dist-packages (from sentence-transformers) (4.48.3)\n",
            "Requirement already satisfied: tqdm in /usr/local/lib/python3.11/dist-packages (from sentence-transformers) (4.67.1)\n",
            "Requirement already satisfied: torch>=1.11.0 in /usr/local/lib/python3.11/dist-packages (from sentence-transformers) (2.5.1+cu124)\n",
            "Requirement already satisfied: scikit-learn in /usr/local/lib/python3.11/dist-packages (from sentence-transformers) (1.6.1)\n",
            "Requirement already satisfied: scipy in /usr/local/lib/python3.11/dist-packages (from sentence-transformers) (1.13.1)\n",
            "Requirement already satisfied: huggingface-hub>=0.20.0 in /usr/local/lib/python3.11/dist-packages (from sentence-transformers) (0.28.1)\n",
            "Requirement already satisfied: Pillow in /usr/local/lib/python3.11/dist-packages (from sentence-transformers) (11.1.0)\n",
            "Requirement already satisfied: filelock in /usr/local/lib/python3.11/dist-packages (from huggingface-hub>=0.20.0->sentence-transformers) (3.17.0)\n",
            "Requirement already satisfied: fsspec>=2023.5.0 in /usr/local/lib/python3.11/dist-packages (from huggingface-hub>=0.20.0->sentence-transformers) (2024.10.0)\n",
            "Requirement already satisfied: pyyaml>=5.1 in /usr/local/lib/python3.11/dist-packages (from huggingface-hub>=0.20.0->sentence-transformers) (6.0.2)\n",
            "Requirement already satisfied: requests in /usr/local/lib/python3.11/dist-packages (from huggingface-hub>=0.20.0->sentence-transformers) (2.32.3)\n",
            "Requirement already satisfied: typing-extensions>=3.7.4.3 in /usr/local/lib/python3.11/dist-packages (from huggingface-hub>=0.20.0->sentence-transformers) (4.12.2)\n",
            "Requirement already satisfied: networkx in /usr/local/lib/python3.11/dist-packages (from torch>=1.11.0->sentence-transformers) (3.4.2)\n",
            "Requirement already satisfied: jinja2 in /usr/local/lib/python3.11/dist-packages (from torch>=1.11.0->sentence-transformers) (3.1.5)\n",
            "Requirement already satisfied: nvidia-cuda-nvrtc-cu12==12.4.127 in /usr/local/lib/python3.11/dist-packages (from torch>=1.11.0->sentence-transformers) (12.4.127)\n",
            "Requirement already satisfied: nvidia-cuda-runtime-cu12==12.4.127 in /usr/local/lib/python3.11/dist-packages (from torch>=1.11.0->sentence-transformers) (12.4.127)\n",
            "Requirement already satisfied: nvidia-cuda-cupti-cu12==12.4.127 in /usr/local/lib/python3.11/dist-packages (from torch>=1.11.0->sentence-transformers) (12.4.127)\n",
            "Requirement already satisfied: nvidia-cudnn-cu12==9.1.0.70 in /usr/local/lib/python3.11/dist-packages (from torch>=1.11.0->sentence-transformers) (9.1.0.70)\n",
            "Requirement already satisfied: nvidia-cublas-cu12==12.4.5.8 in /usr/local/lib/python3.11/dist-packages (from torch>=1.11.0->sentence-transformers) (12.4.5.8)\n",
            "Requirement already satisfied: nvidia-cufft-cu12==11.2.1.3 in /usr/local/lib/python3.11/dist-packages (from torch>=1.11.0->sentence-transformers) (11.2.1.3)\n",
            "Requirement already satisfied: nvidia-curand-cu12==10.3.5.147 in /usr/local/lib/python3.11/dist-packages (from torch>=1.11.0->sentence-transformers) (10.3.5.147)\n",
            "Requirement already satisfied: nvidia-cusolver-cu12==11.6.1.9 in /usr/local/lib/python3.11/dist-packages (from torch>=1.11.0->sentence-transformers) (11.6.1.9)\n",
            "Requirement already satisfied: nvidia-cusparse-cu12==12.3.1.170 in /usr/local/lib/python3.11/dist-packages (from torch>=1.11.0->sentence-transformers) (12.3.1.170)\n",
            "Requirement already satisfied: nvidia-nccl-cu12==2.21.5 in /usr/local/lib/python3.11/dist-packages (from torch>=1.11.0->sentence-transformers) (2.21.5)\n",
            "Requirement already satisfied: nvidia-nvtx-cu12==12.4.127 in /usr/local/lib/python3.11/dist-packages (from torch>=1.11.0->sentence-transformers) (12.4.127)\n",
            "Requirement already satisfied: nvidia-nvjitlink-cu12==12.4.127 in /usr/local/lib/python3.11/dist-packages (from torch>=1.11.0->sentence-transformers) (12.4.127)\n",
            "Requirement already satisfied: triton==3.1.0 in /usr/local/lib/python3.11/dist-packages (from torch>=1.11.0->sentence-transformers) (3.1.0)\n",
            "Requirement already satisfied: sympy==1.13.1 in /usr/local/lib/python3.11/dist-packages (from torch>=1.11.0->sentence-transformers) (1.13.1)\n",
            "Requirement already satisfied: mpmath<1.4,>=1.1.0 in /usr/local/lib/python3.11/dist-packages (from sympy==1.13.1->torch>=1.11.0->sentence-transformers) (1.3.0)\n",
            "Requirement already satisfied: regex!=2019.12.17 in /usr/local/lib/python3.11/dist-packages (from transformers<5.0.0,>=4.41.0->sentence-transformers) (2024.11.6)\n",
            "Requirement already satisfied: tokenizers<0.22,>=0.21 in /usr/local/lib/python3.11/dist-packages (from transformers<5.0.0,>=4.41.0->sentence-transformers) (0.21.0)\n",
            "Requirement already satisfied: safetensors>=0.4.1 in /usr/local/lib/python3.11/dist-packages (from transformers<5.0.0,>=4.41.0->sentence-transformers) (0.5.2)\n",
            "Requirement already satisfied: joblib>=1.2.0 in /usr/local/lib/python3.11/dist-packages (from scikit-learn->sentence-transformers) (1.4.2)\n",
            "Requirement already satisfied: threadpoolctl>=3.1.0 in /usr/local/lib/python3.11/dist-packages (from scikit-learn->sentence-transformers) (3.5.0)\n",
            "Requirement already satisfied: MarkupSafe>=2.0 in /usr/local/lib/python3.11/dist-packages (from jinja2->torch>=1.11.0->sentence-transformers) (3.0.2)\n",
            "Requirement already satisfied: charset-normalizer<4,>=2 in /usr/local/lib/python3.11/dist-packages (from requests->huggingface-hub>=0.20.0->sentence-transformers) (3.4.1)\n",
            "Requirement already satisfied: idna<4,>=2.5 in /usr/local/lib/python3.11/dist-packages (from requests->huggingface-hub>=0.20.0->sentence-transformers) (3.10)\n",
            "Requirement already satisfied: urllib3<3,>=1.21.1 in /usr/local/lib/python3.11/dist-packages (from requests->huggingface-hub>=0.20.0->sentence-transformers) (2.3.0)\n",
            "Requirement already satisfied: certifi>=2017.4.17 in /usr/local/lib/python3.11/dist-packages (from requests->huggingface-hub>=0.20.0->sentence-transformers) (2025.1.31)\n"
          ]
        }
      ],
      "source": [
        "!pip install faiss-cpu sentence-transformers"
      ]
    },
    {
      "cell_type": "code",
      "execution_count": null,
      "id": "dd57742a",
      "metadata": {
        "id": "dd57742a"
      },
      "outputs": [],
      "source": [
        "from transformers import AutoModelForQuestionAnswering, TrainingArguments, Trainer\n",
        "\n",
        "model = AutoModelForQuestionAnswering.from_pretrained(model_name) # remember that model_name is deepset/roberta-base-squad2"
      ]
    },
    {
      "cell_type": "code",
      "execution_count": null,
      "id": "50a61874",
      "metadata": {
        "id": "50a61874",
        "colab": {
          "base_uri": "https://localhost:8080/",
          "height": 265
        },
        "outputId": "2808296e-bead-4f28-ce44-58e415d7f11a"
      },
      "outputs": [
        {
          "output_type": "stream",
          "name": "stderr",
          "text": [
            "/usr/local/lib/python3.11/dist-packages/transformers/training_args.py:1575: FutureWarning: `evaluation_strategy` is deprecated and will be removed in version 4.46 of 🤗 Transformers. Use `eval_strategy` instead\n",
            "  warnings.warn(\n"
          ]
        },
        {
          "output_type": "error",
          "ename": "NameError",
          "evalue": "name 'tokenized_squad' is not defined",
          "traceback": [
            "\u001b[0;31m---------------------------------------------------------------------------\u001b[0m",
            "\u001b[0;31mNameError\u001b[0m                                 Traceback (most recent call last)",
            "\u001b[0;32m<ipython-input-103-463baec1c2aa>\u001b[0m in \u001b[0;36m<cell line: 0>\u001b[0;34m()\u001b[0m\n\u001b[1;32m     13\u001b[0m     \u001b[0mmodel\u001b[0m\u001b[0;34m=\u001b[0m\u001b[0mmodel\u001b[0m\u001b[0;34m,\u001b[0m\u001b[0;34m\u001b[0m\u001b[0;34m\u001b[0m\u001b[0m\n\u001b[1;32m     14\u001b[0m     \u001b[0margs\u001b[0m\u001b[0;34m=\u001b[0m\u001b[0mtraining_args\u001b[0m\u001b[0;34m,\u001b[0m\u001b[0;34m\u001b[0m\u001b[0;34m\u001b[0m\u001b[0m\n\u001b[0;32m---> 15\u001b[0;31m     \u001b[0mtrain_dataset\u001b[0m\u001b[0;34m=\u001b[0m\u001b[0mtokenized_squad\u001b[0m\u001b[0;34m[\u001b[0m\u001b[0;34m\"train\"\u001b[0m\u001b[0;34m]\u001b[0m\u001b[0;34m,\u001b[0m\u001b[0;34m\u001b[0m\u001b[0;34m\u001b[0m\u001b[0m\n\u001b[0m\u001b[1;32m     16\u001b[0m     \u001b[0meval_dataset\u001b[0m\u001b[0;34m=\u001b[0m\u001b[0mtokenized_squad\u001b[0m\u001b[0;34m[\u001b[0m\u001b[0;34m\"validation\"\u001b[0m\u001b[0;34m]\u001b[0m\u001b[0;34m,\u001b[0m\u001b[0;34m\u001b[0m\u001b[0;34m\u001b[0m\u001b[0m\n\u001b[1;32m     17\u001b[0m     \u001b[0mtokenizer\u001b[0m\u001b[0;34m=\u001b[0m\u001b[0mtokenizer\u001b[0m\u001b[0;34m,\u001b[0m\u001b[0;34m\u001b[0m\u001b[0;34m\u001b[0m\u001b[0m\n",
            "\u001b[0;31mNameError\u001b[0m: name 'tokenized_squad' is not defined"
          ]
        }
      ],
      "source": [
        "# Let's start training!\n",
        "training_args = TrainingArguments(\n",
        "    output_dir=\"./results\",\n",
        "    evaluation_strategy=\"epoch\",\n",
        "    learning_rate=0.01,\n",
        "    per_device_train_batch_size=1,\n",
        "    per_device_eval_batch_size=11,\n",
        "    num_train_epochs=1,\n",
        "    weight_decay=0.01,\n",
        ")\n",
        "\n",
        "trainer = Trainer(\n",
        "    model=model,\n",
        "    args=training_args,\n",
        "    train_dataset=tokenized_squad[\"train\"],\n",
        "    eval_dataset=tokenized_squad[\"validation\"],\n",
        "    tokenizer=tokenizer,\n",
        "    data_collator=data_collator,\n",
        ")\n",
        "\n",
        "trainer.train()"
      ]
    }
  ],
  "metadata": {
    "accelerator": "GPU",
    "colab": {
      "gpuType": "T4",
      "provenance": [],
      "include_colab_link": true
    },
    "kernelspec": {
      "display_name": "Python 3",
      "name": "python3"
    },
    "language_info": {
      "codemirror_mode": {
        "name": "ipython",
        "version": 3
      },
      "file_extension": ".py",
      "mimetype": "text/x-python",
      "name": "python",
      "nbconvert_exporter": "python",
      "pygments_lexer": "ipython3",
      "version": "3.8.8"
    },
    "widgets": {
      "application/vnd.jupyter.widget-state+json": {
        "70f2d36266114b27a1ff482581ea6b03": {
          "model_module": "@jupyter-widgets/controls",
          "model_name": "HBoxModel",
          "model_module_version": "1.5.0",
          "state": {
            "_dom_classes": [],
            "_model_module": "@jupyter-widgets/controls",
            "_model_module_version": "1.5.0",
            "_model_name": "HBoxModel",
            "_view_count": null,
            "_view_module": "@jupyter-widgets/controls",
            "_view_module_version": "1.5.0",
            "_view_name": "HBoxView",
            "box_style": "",
            "children": [
              "IPY_MODEL_7b48fe573263424f80719ca13558188c",
              "IPY_MODEL_d625f6581bd6460caca02fd3653c9c6b",
              "IPY_MODEL_951e8ab646984cbdbcfd351f3f0ea1eb"
            ],
            "layout": "IPY_MODEL_a31361571da04473a7c37d22bfea4503"
          }
        },
        "7b48fe573263424f80719ca13558188c": {
          "model_module": "@jupyter-widgets/controls",
          "model_name": "HTMLModel",
          "model_module_version": "1.5.0",
          "state": {
            "_dom_classes": [],
            "_model_module": "@jupyter-widgets/controls",
            "_model_module_version": "1.5.0",
            "_model_name": "HTMLModel",
            "_view_count": null,
            "_view_module": "@jupyter-widgets/controls",
            "_view_module_version": "1.5.0",
            "_view_name": "HTMLView",
            "description": "",
            "description_tooltip": null,
            "layout": "IPY_MODEL_a010dfd442754a2cb5d58762e51a7721",
            "placeholder": "​",
            "style": "IPY_MODEL_1f017773c74748acad65912f1fabc3f1",
            "value": "Map: 100%"
          }
        },
        "d625f6581bd6460caca02fd3653c9c6b": {
          "model_module": "@jupyter-widgets/controls",
          "model_name": "FloatProgressModel",
          "model_module_version": "1.5.0",
          "state": {
            "_dom_classes": [],
            "_model_module": "@jupyter-widgets/controls",
            "_model_module_version": "1.5.0",
            "_model_name": "FloatProgressModel",
            "_view_count": null,
            "_view_module": "@jupyter-widgets/controls",
            "_view_module_version": "1.5.0",
            "_view_name": "ProgressView",
            "bar_style": "success",
            "description": "",
            "description_tooltip": null,
            "layout": "IPY_MODEL_c20a84bf81d247619109402885744848",
            "max": 1817,
            "min": 0,
            "orientation": "horizontal",
            "style": "IPY_MODEL_9b8462a6de254501a920fe0f6a8ea832",
            "value": 1817
          }
        },
        "951e8ab646984cbdbcfd351f3f0ea1eb": {
          "model_module": "@jupyter-widgets/controls",
          "model_name": "HTMLModel",
          "model_module_version": "1.5.0",
          "state": {
            "_dom_classes": [],
            "_model_module": "@jupyter-widgets/controls",
            "_model_module_version": "1.5.0",
            "_model_name": "HTMLModel",
            "_view_count": null,
            "_view_module": "@jupyter-widgets/controls",
            "_view_module_version": "1.5.0",
            "_view_name": "HTMLView",
            "description": "",
            "description_tooltip": null,
            "layout": "IPY_MODEL_4667f6c02f344e1e80d787bd95a2643b",
            "placeholder": "​",
            "style": "IPY_MODEL_3fa973f408fe49b78d8601057b00a1cd",
            "value": " 1817/1817 [00:37&lt;00:00, 48.20 examples/s]"
          }
        },
        "a31361571da04473a7c37d22bfea4503": {
          "model_module": "@jupyter-widgets/base",
          "model_name": "LayoutModel",
          "model_module_version": "1.2.0",
          "state": {
            "_model_module": "@jupyter-widgets/base",
            "_model_module_version": "1.2.0",
            "_model_name": "LayoutModel",
            "_view_count": null,
            "_view_module": "@jupyter-widgets/base",
            "_view_module_version": "1.2.0",
            "_view_name": "LayoutView",
            "align_content": null,
            "align_items": null,
            "align_self": null,
            "border": null,
            "bottom": null,
            "display": null,
            "flex": null,
            "flex_flow": null,
            "grid_area": null,
            "grid_auto_columns": null,
            "grid_auto_flow": null,
            "grid_auto_rows": null,
            "grid_column": null,
            "grid_gap": null,
            "grid_row": null,
            "grid_template_areas": null,
            "grid_template_columns": null,
            "grid_template_rows": null,
            "height": null,
            "justify_content": null,
            "justify_items": null,
            "left": null,
            "margin": null,
            "max_height": null,
            "max_width": null,
            "min_height": null,
            "min_width": null,
            "object_fit": null,
            "object_position": null,
            "order": null,
            "overflow": null,
            "overflow_x": null,
            "overflow_y": null,
            "padding": null,
            "right": null,
            "top": null,
            "visibility": null,
            "width": null
          }
        },
        "a010dfd442754a2cb5d58762e51a7721": {
          "model_module": "@jupyter-widgets/base",
          "model_name": "LayoutModel",
          "model_module_version": "1.2.0",
          "state": {
            "_model_module": "@jupyter-widgets/base",
            "_model_module_version": "1.2.0",
            "_model_name": "LayoutModel",
            "_view_count": null,
            "_view_module": "@jupyter-widgets/base",
            "_view_module_version": "1.2.0",
            "_view_name": "LayoutView",
            "align_content": null,
            "align_items": null,
            "align_self": null,
            "border": null,
            "bottom": null,
            "display": null,
            "flex": null,
            "flex_flow": null,
            "grid_area": null,
            "grid_auto_columns": null,
            "grid_auto_flow": null,
            "grid_auto_rows": null,
            "grid_column": null,
            "grid_gap": null,
            "grid_row": null,
            "grid_template_areas": null,
            "grid_template_columns": null,
            "grid_template_rows": null,
            "height": null,
            "justify_content": null,
            "justify_items": null,
            "left": null,
            "margin": null,
            "max_height": null,
            "max_width": null,
            "min_height": null,
            "min_width": null,
            "object_fit": null,
            "object_position": null,
            "order": null,
            "overflow": null,
            "overflow_x": null,
            "overflow_y": null,
            "padding": null,
            "right": null,
            "top": null,
            "visibility": null,
            "width": null
          }
        },
        "1f017773c74748acad65912f1fabc3f1": {
          "model_module": "@jupyter-widgets/controls",
          "model_name": "DescriptionStyleModel",
          "model_module_version": "1.5.0",
          "state": {
            "_model_module": "@jupyter-widgets/controls",
            "_model_module_version": "1.5.0",
            "_model_name": "DescriptionStyleModel",
            "_view_count": null,
            "_view_module": "@jupyter-widgets/base",
            "_view_module_version": "1.2.0",
            "_view_name": "StyleView",
            "description_width": ""
          }
        },
        "c20a84bf81d247619109402885744848": {
          "model_module": "@jupyter-widgets/base",
          "model_name": "LayoutModel",
          "model_module_version": "1.2.0",
          "state": {
            "_model_module": "@jupyter-widgets/base",
            "_model_module_version": "1.2.0",
            "_model_name": "LayoutModel",
            "_view_count": null,
            "_view_module": "@jupyter-widgets/base",
            "_view_module_version": "1.2.0",
            "_view_name": "LayoutView",
            "align_content": null,
            "align_items": null,
            "align_self": null,
            "border": null,
            "bottom": null,
            "display": null,
            "flex": null,
            "flex_flow": null,
            "grid_area": null,
            "grid_auto_columns": null,
            "grid_auto_flow": null,
            "grid_auto_rows": null,
            "grid_column": null,
            "grid_gap": null,
            "grid_row": null,
            "grid_template_areas": null,
            "grid_template_columns": null,
            "grid_template_rows": null,
            "height": null,
            "justify_content": null,
            "justify_items": null,
            "left": null,
            "margin": null,
            "max_height": null,
            "max_width": null,
            "min_height": null,
            "min_width": null,
            "object_fit": null,
            "object_position": null,
            "order": null,
            "overflow": null,
            "overflow_x": null,
            "overflow_y": null,
            "padding": null,
            "right": null,
            "top": null,
            "visibility": null,
            "width": null
          }
        },
        "9b8462a6de254501a920fe0f6a8ea832": {
          "model_module": "@jupyter-widgets/controls",
          "model_name": "ProgressStyleModel",
          "model_module_version": "1.5.0",
          "state": {
            "_model_module": "@jupyter-widgets/controls",
            "_model_module_version": "1.5.0",
            "_model_name": "ProgressStyleModel",
            "_view_count": null,
            "_view_module": "@jupyter-widgets/base",
            "_view_module_version": "1.2.0",
            "_view_name": "StyleView",
            "bar_color": null,
            "description_width": ""
          }
        },
        "4667f6c02f344e1e80d787bd95a2643b": {
          "model_module": "@jupyter-widgets/base",
          "model_name": "LayoutModel",
          "model_module_version": "1.2.0",
          "state": {
            "_model_module": "@jupyter-widgets/base",
            "_model_module_version": "1.2.0",
            "_model_name": "LayoutModel",
            "_view_count": null,
            "_view_module": "@jupyter-widgets/base",
            "_view_module_version": "1.2.0",
            "_view_name": "LayoutView",
            "align_content": null,
            "align_items": null,
            "align_self": null,
            "border": null,
            "bottom": null,
            "display": null,
            "flex": null,
            "flex_flow": null,
            "grid_area": null,
            "grid_auto_columns": null,
            "grid_auto_flow": null,
            "grid_auto_rows": null,
            "grid_column": null,
            "grid_gap": null,
            "grid_row": null,
            "grid_template_areas": null,
            "grid_template_columns": null,
            "grid_template_rows": null,
            "height": null,
            "justify_content": null,
            "justify_items": null,
            "left": null,
            "margin": null,
            "max_height": null,
            "max_width": null,
            "min_height": null,
            "min_width": null,
            "object_fit": null,
            "object_position": null,
            "order": null,
            "overflow": null,
            "overflow_x": null,
            "overflow_y": null,
            "padding": null,
            "right": null,
            "top": null,
            "visibility": null,
            "width": null
          }
        },
        "3fa973f408fe49b78d8601057b00a1cd": {
          "model_module": "@jupyter-widgets/controls",
          "model_name": "DescriptionStyleModel",
          "model_module_version": "1.5.0",
          "state": {
            "_model_module": "@jupyter-widgets/controls",
            "_model_module_version": "1.5.0",
            "_model_name": "DescriptionStyleModel",
            "_view_count": null,
            "_view_module": "@jupyter-widgets/base",
            "_view_module_version": "1.2.0",
            "_view_name": "StyleView",
            "description_width": ""
          }
        },
        "1371ace2e0724d37af9067a3e058e1c3": {
          "model_module": "@jupyter-widgets/controls",
          "model_name": "HBoxModel",
          "model_module_version": "1.5.0",
          "state": {
            "_dom_classes": [],
            "_model_module": "@jupyter-widgets/controls",
            "_model_module_version": "1.5.0",
            "_model_name": "HBoxModel",
            "_view_count": null,
            "_view_module": "@jupyter-widgets/controls",
            "_view_module_version": "1.5.0",
            "_view_name": "HBoxView",
            "box_style": "",
            "children": [
              "IPY_MODEL_5cea6196545a4462a52b00de2e5614c0",
              "IPY_MODEL_feb1f25e0d194464bd0a2c5fe5da8981",
              "IPY_MODEL_42fa51d5e6fe42e6a0548bec166e03f1"
            ],
            "layout": "IPY_MODEL_3cc5d7c30bd242eeaeec290fea1807ce"
          }
        },
        "5cea6196545a4462a52b00de2e5614c0": {
          "model_module": "@jupyter-widgets/controls",
          "model_name": "HTMLModel",
          "model_module_version": "1.5.0",
          "state": {
            "_dom_classes": [],
            "_model_module": "@jupyter-widgets/controls",
            "_model_module_version": "1.5.0",
            "_model_name": "HTMLModel",
            "_view_count": null,
            "_view_module": "@jupyter-widgets/controls",
            "_view_module_version": "1.5.0",
            "_view_name": "HTMLView",
            "description": "",
            "description_tooltip": null,
            "layout": "IPY_MODEL_5e715c636574453f96938a40ff20dcfd",
            "placeholder": "​",
            "style": "IPY_MODEL_48d2705abde54eefb3dff22c74c78e3f",
            "value": "Map: 100%"
          }
        },
        "feb1f25e0d194464bd0a2c5fe5da8981": {
          "model_module": "@jupyter-widgets/controls",
          "model_name": "FloatProgressModel",
          "model_module_version": "1.5.0",
          "state": {
            "_dom_classes": [],
            "_model_module": "@jupyter-widgets/controls",
            "_model_module_version": "1.5.0",
            "_model_name": "FloatProgressModel",
            "_view_count": null,
            "_view_module": "@jupyter-widgets/controls",
            "_view_module_version": "1.5.0",
            "_view_name": "ProgressView",
            "bar_style": "success",
            "description": "",
            "description_tooltip": null,
            "layout": "IPY_MODEL_cba55a956f8440fe97b7ae3280296b7d",
            "max": 202,
            "min": 0,
            "orientation": "horizontal",
            "style": "IPY_MODEL_70abeb1301f04bf3a9455ab9e328b0c9",
            "value": 202
          }
        },
        "42fa51d5e6fe42e6a0548bec166e03f1": {
          "model_module": "@jupyter-widgets/controls",
          "model_name": "HTMLModel",
          "model_module_version": "1.5.0",
          "state": {
            "_dom_classes": [],
            "_model_module": "@jupyter-widgets/controls",
            "_model_module_version": "1.5.0",
            "_model_name": "HTMLModel",
            "_view_count": null,
            "_view_module": "@jupyter-widgets/controls",
            "_view_module_version": "1.5.0",
            "_view_name": "HTMLView",
            "description": "",
            "description_tooltip": null,
            "layout": "IPY_MODEL_c7763cd409d5498cb136cf15031eeb65",
            "placeholder": "​",
            "style": "IPY_MODEL_03a28c934d624b1babde02997459a2a0",
            "value": " 202/202 [00:04&lt;00:00, 41.76 examples/s]"
          }
        },
        "3cc5d7c30bd242eeaeec290fea1807ce": {
          "model_module": "@jupyter-widgets/base",
          "model_name": "LayoutModel",
          "model_module_version": "1.2.0",
          "state": {
            "_model_module": "@jupyter-widgets/base",
            "_model_module_version": "1.2.0",
            "_model_name": "LayoutModel",
            "_view_count": null,
            "_view_module": "@jupyter-widgets/base",
            "_view_module_version": "1.2.0",
            "_view_name": "LayoutView",
            "align_content": null,
            "align_items": null,
            "align_self": null,
            "border": null,
            "bottom": null,
            "display": null,
            "flex": null,
            "flex_flow": null,
            "grid_area": null,
            "grid_auto_columns": null,
            "grid_auto_flow": null,
            "grid_auto_rows": null,
            "grid_column": null,
            "grid_gap": null,
            "grid_row": null,
            "grid_template_areas": null,
            "grid_template_columns": null,
            "grid_template_rows": null,
            "height": null,
            "justify_content": null,
            "justify_items": null,
            "left": null,
            "margin": null,
            "max_height": null,
            "max_width": null,
            "min_height": null,
            "min_width": null,
            "object_fit": null,
            "object_position": null,
            "order": null,
            "overflow": null,
            "overflow_x": null,
            "overflow_y": null,
            "padding": null,
            "right": null,
            "top": null,
            "visibility": null,
            "width": null
          }
        },
        "5e715c636574453f96938a40ff20dcfd": {
          "model_module": "@jupyter-widgets/base",
          "model_name": "LayoutModel",
          "model_module_version": "1.2.0",
          "state": {
            "_model_module": "@jupyter-widgets/base",
            "_model_module_version": "1.2.0",
            "_model_name": "LayoutModel",
            "_view_count": null,
            "_view_module": "@jupyter-widgets/base",
            "_view_module_version": "1.2.0",
            "_view_name": "LayoutView",
            "align_content": null,
            "align_items": null,
            "align_self": null,
            "border": null,
            "bottom": null,
            "display": null,
            "flex": null,
            "flex_flow": null,
            "grid_area": null,
            "grid_auto_columns": null,
            "grid_auto_flow": null,
            "grid_auto_rows": null,
            "grid_column": null,
            "grid_gap": null,
            "grid_row": null,
            "grid_template_areas": null,
            "grid_template_columns": null,
            "grid_template_rows": null,
            "height": null,
            "justify_content": null,
            "justify_items": null,
            "left": null,
            "margin": null,
            "max_height": null,
            "max_width": null,
            "min_height": null,
            "min_width": null,
            "object_fit": null,
            "object_position": null,
            "order": null,
            "overflow": null,
            "overflow_x": null,
            "overflow_y": null,
            "padding": null,
            "right": null,
            "top": null,
            "visibility": null,
            "width": null
          }
        },
        "48d2705abde54eefb3dff22c74c78e3f": {
          "model_module": "@jupyter-widgets/controls",
          "model_name": "DescriptionStyleModel",
          "model_module_version": "1.5.0",
          "state": {
            "_model_module": "@jupyter-widgets/controls",
            "_model_module_version": "1.5.0",
            "_model_name": "DescriptionStyleModel",
            "_view_count": null,
            "_view_module": "@jupyter-widgets/base",
            "_view_module_version": "1.2.0",
            "_view_name": "StyleView",
            "description_width": ""
          }
        },
        "cba55a956f8440fe97b7ae3280296b7d": {
          "model_module": "@jupyter-widgets/base",
          "model_name": "LayoutModel",
          "model_module_version": "1.2.0",
          "state": {
            "_model_module": "@jupyter-widgets/base",
            "_model_module_version": "1.2.0",
            "_model_name": "LayoutModel",
            "_view_count": null,
            "_view_module": "@jupyter-widgets/base",
            "_view_module_version": "1.2.0",
            "_view_name": "LayoutView",
            "align_content": null,
            "align_items": null,
            "align_self": null,
            "border": null,
            "bottom": null,
            "display": null,
            "flex": null,
            "flex_flow": null,
            "grid_area": null,
            "grid_auto_columns": null,
            "grid_auto_flow": null,
            "grid_auto_rows": null,
            "grid_column": null,
            "grid_gap": null,
            "grid_row": null,
            "grid_template_areas": null,
            "grid_template_columns": null,
            "grid_template_rows": null,
            "height": null,
            "justify_content": null,
            "justify_items": null,
            "left": null,
            "margin": null,
            "max_height": null,
            "max_width": null,
            "min_height": null,
            "min_width": null,
            "object_fit": null,
            "object_position": null,
            "order": null,
            "overflow": null,
            "overflow_x": null,
            "overflow_y": null,
            "padding": null,
            "right": null,
            "top": null,
            "visibility": null,
            "width": null
          }
        },
        "70abeb1301f04bf3a9455ab9e328b0c9": {
          "model_module": "@jupyter-widgets/controls",
          "model_name": "ProgressStyleModel",
          "model_module_version": "1.5.0",
          "state": {
            "_model_module": "@jupyter-widgets/controls",
            "_model_module_version": "1.5.0",
            "_model_name": "ProgressStyleModel",
            "_view_count": null,
            "_view_module": "@jupyter-widgets/base",
            "_view_module_version": "1.2.0",
            "_view_name": "StyleView",
            "bar_color": null,
            "description_width": ""
          }
        },
        "c7763cd409d5498cb136cf15031eeb65": {
          "model_module": "@jupyter-widgets/base",
          "model_name": "LayoutModel",
          "model_module_version": "1.2.0",
          "state": {
            "_model_module": "@jupyter-widgets/base",
            "_model_module_version": "1.2.0",
            "_model_name": "LayoutModel",
            "_view_count": null,
            "_view_module": "@jupyter-widgets/base",
            "_view_module_version": "1.2.0",
            "_view_name": "LayoutView",
            "align_content": null,
            "align_items": null,
            "align_self": null,
            "border": null,
            "bottom": null,
            "display": null,
            "flex": null,
            "flex_flow": null,
            "grid_area": null,
            "grid_auto_columns": null,
            "grid_auto_flow": null,
            "grid_auto_rows": null,
            "grid_column": null,
            "grid_gap": null,
            "grid_row": null,
            "grid_template_areas": null,
            "grid_template_columns": null,
            "grid_template_rows": null,
            "height": null,
            "justify_content": null,
            "justify_items": null,
            "left": null,
            "margin": null,
            "max_height": null,
            "max_width": null,
            "min_height": null,
            "min_width": null,
            "object_fit": null,
            "object_position": null,
            "order": null,
            "overflow": null,
            "overflow_x": null,
            "overflow_y": null,
            "padding": null,
            "right": null,
            "top": null,
            "visibility": null,
            "width": null
          }
        },
        "03a28c934d624b1babde02997459a2a0": {
          "model_module": "@jupyter-widgets/controls",
          "model_name": "DescriptionStyleModel",
          "model_module_version": "1.5.0",
          "state": {
            "_model_module": "@jupyter-widgets/controls",
            "_model_module_version": "1.5.0",
            "_model_name": "DescriptionStyleModel",
            "_view_count": null,
            "_view_module": "@jupyter-widgets/base",
            "_view_module_version": "1.2.0",
            "_view_name": "StyleView",
            "description_width": ""
          }
        }
      }
    }
  },
  "nbformat": 4,
  "nbformat_minor": 5
}